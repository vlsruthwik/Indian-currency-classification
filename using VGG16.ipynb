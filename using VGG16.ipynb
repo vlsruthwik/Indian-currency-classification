{
 "cells": [
  {
   "cell_type": "code",
   "execution_count": 1,
   "id": "afd279c5",
   "metadata": {},
   "outputs": [],
   "source": [
    "import tensorflow as tf\n",
    "from keras.preprocessing.image import ImageDataGenerator\n",
    "import numpy as np\n",
    "from keras.models import Sequential\n",
    "import matplotlib.pyplot as plt\n",
    "from keras.utils import load_img, img_to_array\n",
    "from tensorflow.keras.applications import VGG16"
   ]
  },
  {
   "cell_type": "code",
   "execution_count": 2,
   "id": "1cce8ba3",
   "metadata": {},
   "outputs": [
    {
     "name": "stdout",
     "output_type": "stream",
     "text": [
      "Found 735 images belonging to 7 classes.\n",
      "Found 315 images belonging to 7 classes.\n"
     ]
    }
   ],
   "source": [
    "train_datagen = ImageDataGenerator(\n",
    "        rescale=1./255,\n",
    "        shear_range=0.2,\n",
    "        zoom_range=0.2,\n",
    "        rotation_range=30,\n",
    "        width_shift_range=0.2,\n",
    "        height_shift_range=0.2,\n",
    "        horizontal_flip=True)\n",
    "\n",
    "train_generator = train_datagen.flow_from_directory(\n",
    "    \"./data/train\",\n",
    "    target_size=(128,128),\n",
    "    batch_size=16,\n",
    "    shuffle=True,\n",
    "    seed=42,\n",
    "    color_mode=\"rgb\",\n",
    "    class_mode='categorical')\n",
    "\n",
    "test_datagen = ImageDataGenerator(rescale=1./255)\n",
    "\n",
    "test_generator = test_datagen.flow_from_directory(\n",
    "    \"./data/test\",\n",
    "    target_size=(128,128),\n",
    "    batch_size=16,\n",
    "    shuffle=True,\n",
    "    seed=42,\n",
    "    color_mode=\"rgb\",\n",
    "    class_mode='categorical')"
   ]
  },
  {
   "cell_type": "code",
   "execution_count": 3,
   "id": "5475afa5",
   "metadata": {},
   "outputs": [],
   "source": [
    "\n",
    "class myCallback(tf.keras.callbacks.Callback):\n",
    "    def on_epoch_end(self, epoch, logs={}):\n",
    "        if(logs.get('val_loss') < 0.05):\n",
    "            self.model.stop_training = True\n",
    "    \n",
    "        \n",
    "        \n",
    "            \n",
    "callbacks = myCallback()"
   ]
  },
  {
   "cell_type": "code",
   "execution_count": 4,
   "id": "f69f922a",
   "metadata": {},
   "outputs": [],
   "source": [
    "vgg16_model = VGG16(weights='imagenet', include_top=False, input_shape=(128, 128, 3))\n",
    "vgg16_model.trainable = False"
   ]
  },
  {
   "cell_type": "code",
   "execution_count": 5,
   "id": "3caac808",
   "metadata": {},
   "outputs": [
    {
     "name": "stdout",
     "output_type": "stream",
     "text": [
      "Model: \"sequential_1\"\n",
      "_________________________________________________________________\n",
      " Layer (type)                Output Shape              Param #   \n",
      "=================================================================\n",
      " vgg16 (Functional)          (None, 4, 4, 512)         14714688  \n",
      "                                                                 \n",
      " sequential (Sequential)     (None, 7)                 4198407   \n",
      "                                                                 \n",
      "=================================================================\n",
      "Total params: 18,913,095\n",
      "Trainable params: 4,198,407\n",
      "Non-trainable params: 14,714,688\n",
      "_________________________________________________________________\n"
     ]
    }
   ],
   "source": [
    "layers = Sequential([\n",
    "    tf.keras.layers.Flatten(),\n",
    "    tf.keras.layers.Dense(512, activation='relu'),\n",
    "    tf.keras.layers.LeakyReLU(alpha=0.1),\n",
    "    tf.keras.layers.Dense(7, activation='softmax')\n",
    "])\n",
    "\n",
    "model = tf.keras.Sequential([vgg16_model, layers])\n",
    "    \n",
    "model.compile(optimizer = 'adam', \n",
    "              loss='categorical_crossentropy', \n",
    "              metrics=['accuracy'])\n",
    "\n",
    "model.summary()"
   ]
  },
  {
   "cell_type": "code",
   "execution_count": 6,
   "id": "cfdb8a73",
   "metadata": {},
   "outputs": [
    {
     "name": "stdout",
     "output_type": "stream",
     "text": [
      "Epoch 1/20\n",
      "46/46 [==============================] - 30s 637ms/step - loss: 1.9771 - accuracy: 0.4218 - val_loss: 1.0862 - val_accuracy: 0.5873\n",
      "Epoch 2/20\n",
      "46/46 [==============================] - 31s 686ms/step - loss: 0.8162 - accuracy: 0.7429 - val_loss: 0.6986 - val_accuracy: 0.7524\n",
      "Epoch 3/20\n",
      "46/46 [==============================] - 32s 689ms/step - loss: 0.5528 - accuracy: 0.8367 - val_loss: 0.3054 - val_accuracy: 0.9206\n",
      "Epoch 4/20\n",
      "46/46 [==============================] - 32s 697ms/step - loss: 0.3506 - accuracy: 0.9129 - val_loss: 0.2294 - val_accuracy: 0.9492\n",
      "Epoch 5/20\n",
      "46/46 [==============================] - 32s 692ms/step - loss: 0.3813 - accuracy: 0.8884 - val_loss: 0.2741 - val_accuracy: 0.9143\n",
      "Epoch 6/20\n",
      "46/46 [==============================] - 31s 687ms/step - loss: 0.2505 - accuracy: 0.9238 - val_loss: 0.1234 - val_accuracy: 0.9746\n",
      "Epoch 7/20\n",
      "46/46 [==============================] - 32s 696ms/step - loss: 0.2435 - accuracy: 0.9306 - val_loss: 0.1027 - val_accuracy: 0.9746\n",
      "Epoch 8/20\n",
      "46/46 [==============================] - 32s 691ms/step - loss: 0.2055 - accuracy: 0.9361 - val_loss: 0.1378 - val_accuracy: 0.9683\n",
      "Epoch 9/20\n",
      "46/46 [==============================] - 32s 690ms/step - loss: 0.1789 - accuracy: 0.9429 - val_loss: 0.1269 - val_accuracy: 0.9651\n",
      "Epoch 10/20\n",
      "46/46 [==============================] - 32s 695ms/step - loss: 0.1705 - accuracy: 0.9578 - val_loss: 0.0891 - val_accuracy: 0.9778\n",
      "Epoch 11/20\n",
      "46/46 [==============================] - 32s 689ms/step - loss: 0.1551 - accuracy: 0.9442 - val_loss: 0.0981 - val_accuracy: 0.9683\n",
      "Epoch 12/20\n",
      "46/46 [==============================] - 32s 697ms/step - loss: 0.1828 - accuracy: 0.9442 - val_loss: 0.1097 - val_accuracy: 0.9778\n",
      "Epoch 13/20\n",
      "46/46 [==============================] - 32s 688ms/step - loss: 0.1600 - accuracy: 0.9456 - val_loss: 0.0658 - val_accuracy: 0.9873\n",
      "Epoch 14/20\n",
      "46/46 [==============================] - 32s 698ms/step - loss: 0.1359 - accuracy: 0.9537 - val_loss: 0.1324 - val_accuracy: 0.9556\n",
      "Epoch 15/20\n",
      "46/46 [==============================] - 32s 690ms/step - loss: 0.1265 - accuracy: 0.9592 - val_loss: 0.0620 - val_accuracy: 0.9810\n",
      "Epoch 16/20\n",
      "46/46 [==============================] - 32s 696ms/step - loss: 0.1105 - accuracy: 0.9646 - val_loss: 0.0585 - val_accuracy: 0.9841\n",
      "Epoch 17/20\n",
      "46/46 [==============================] - 34s 733ms/step - loss: 0.1052 - accuracy: 0.9701 - val_loss: 0.1823 - val_accuracy: 0.9429\n",
      "Epoch 18/20\n",
      "46/46 [==============================] - 37s 801ms/step - loss: 0.0893 - accuracy: 0.9728 - val_loss: 0.0597 - val_accuracy: 0.9873\n",
      "Epoch 19/20\n",
      "46/46 [==============================] - 35s 772ms/step - loss: 0.0968 - accuracy: 0.9714 - val_loss: 0.0482 - val_accuracy: 0.9873\n"
     ]
    }
   ],
   "source": [
    "epochs = 20\n",
    "\n",
    "history = model.fit(x = train_generator,\n",
    "                    validation_data=test_generator ,\n",
    "                    batch_size=16,\n",
    "                    verbose=1, \n",
    "                    epochs=epochs,\n",
    "                    callbacks=[callbacks]\n",
    "                   )"
   ]
  },
  {
   "cell_type": "code",
   "execution_count": 7,
   "id": "aa623255",
   "metadata": {},
   "outputs": [
    {
     "name": "stdout",
     "output_type": "stream",
     "text": [
      "20/20 [==============================] - 10s 484ms/step - loss: 0.0482 - accuracy: 0.9873\n"
     ]
    },
    {
     "data": {
      "text/plain": [
       "[0.04817352443933487, 0.9873015880584717]"
      ]
     },
     "execution_count": 7,
     "metadata": {},
     "output_type": "execute_result"
    }
   ],
   "source": [
    "model.evaluate(test_generator)"
   ]
  },
  {
   "cell_type": "code",
   "execution_count": 8,
   "id": "cc3e645d",
   "metadata": {},
   "outputs": [],
   "source": [
    "no_epochs = len(history.history['loss'])"
   ]
  },
  {
   "cell_type": "code",
   "execution_count": 9,
   "id": "c103819d",
   "metadata": {},
   "outputs": [
    {
     "data": {
      "image/png": "[encoded data removed]",
      "text/plain": [
       "<Figure size 432x288 with 1 Axes>"
      ]
     },
     "metadata": {
      "needs_background": "light"
     },
     "output_type": "display_data"
    }
   ],
   "source": [
    "loss_train = history.history['loss']\n",
    "loss_val = history.history['val_loss']\n",
    "ep = range(no_epochs)\n",
    "plt.plot(ep, loss_train, label='Training loss')\n",
    "plt.plot(ep, loss_val, label='validation loss')\n",
    "plt.title('Training and Validation loss')\n",
    "plt.xlabel('Epochs')\n",
    "plt.ylabel('Loss')\n",
    "plt.legend()\n",
    "plt.show()"
   ]
  },
  {
   "cell_type": "code",
   "execution_count": 10,
   "id": "92bf95fc",
   "metadata": {},
   "outputs": [
    {
     "data": {
      "image/png": "[encoded data removed]",
      "text/plain": [
       "<Figure size 432x288 with 1 Axes>"
      ]
     },
     "metadata": {
      "needs_background": "light"
     },
     "output_type": "display_data"
    }
   ],
   "source": [
    "loss_train = history.history['accuracy']\n",
    "loss_val = history.history['val_accuracy']\n",
    "ep = range(no_epochs)\n",
    "plt.plot(ep, loss_train,label='Training accuracy')\n",
    "plt.plot(ep, loss_val, label='validation accuracy')\n",
    "plt.title('Training and Validation accuracy')\n",
    "plt.xlabel('Epochs')\n",
    "plt.ylabel('Accuracy')\n",
    "plt.legend()\n",
    "plt.show()"
   ]
  },
  {
   "cell_type": "code",
   "execution_count": 11,
   "id": "3ed6dd8a",
   "metadata": {},
   "outputs": [],
   "source": [
    "def single_predict(file):\n",
    "    test_image=load_img(file, target_size=(128,128))\n",
    "    test_image=img_to_array(test_image)\n",
    "    test_image=np.expand_dims(test_image,axis=0)\n",
    "    result=model.predict(test_image)\n",
    "    sorted_classes = ['10', '100', '20', '200', '2000', '50', '500']\n",
    "    return sorted_classes[result.argmax()]"
   ]
  },
  {
   "cell_type": "code",
   "execution_count": 12,
   "id": "4141414a",
   "metadata": {},
   "outputs": [
    {
     "name": "stdout",
     "output_type": "stream",
     "text": [
      "1/1 [==============================] - 0s 173ms/step\n"
     ]
    },
    {
     "data": {
      "text/plain": [
       "'2000'"
      ]
     },
     "execution_count": 12,
     "metadata": {},
     "output_type": "execute_result"
    }
   ],
   "source": [
    "single_predict(\"data/single/2000rs.jpg\")"
   ]
  },
  {
   "cell_type": "code",
   "execution_count": null,
   "id": "449b3dfa",
   "metadata": {},
   "outputs": [],
   "source": []
  },
  {
   "cell_type": "code",
   "execution_count": 13,
   "id": "27994417",
   "metadata": {},
   "outputs": [
    {
     "data": {
      "text/plain": [
       "{'10': 0, '100': 1, '20': 2, '200': 3, '2000': 4, '50': 5, '500': 6}"
      ]
     },
     "execution_count": 13,
     "metadata": {},
     "output_type": "execute_result"
    }
   ],
   "source": [
    "train_generator.class_indices"
   ]
  },
  {
   "cell_type": "code",
   "execution_count": 14,
   "id": "2a2ade66",
   "metadata": {},
   "outputs": [],
   "source": [
    "# model.save_weights('optimised_CNN')"
   ]
  },
  {
   "cell_type": "code",
   "execution_count": 15,
   "id": "05c29292",
   "metadata": {},
   "outputs": [],
   "source": [
    "# import cv2\n",
    "# import numpy as np\n",
    "\n",
    "\n",
    "# url = input()\n",
    "# cap = cv2.VideoCapture(url+\"/video\")\n",
    "\n",
    "# while(True):\n",
    "#     font = cv2.FONT_HERSHEY_SIMPLEX\n",
    "#     fontScale = 1\n",
    "#     color = (255, 0, 0)\n",
    "#     thickness = 2\n",
    "    \n",
    "#     ret, frame = cap.read()\n",
    "#     cv2.imwrite(\"cv_clicked.jpg\",frame)\n",
    "#     res = single_predict(\"cv_clicked.jpg\")\n",
    "#     print(res)\n",
    "#     cv2.putText(frame,res,(50, 50),font,fontScale,color,thickness)\n",
    "#     cv2.imshow('frame',frame)\n",
    "    \n",
    "    \n",
    "#     if cv2.waitKey(1) & 0xFF == ord('q'):\n",
    "#         break\n",
    "\n",
    "# cap.release()\n",
    "# cv2.destroyAllWindows()"
   ]
  },
  {
   "cell_type": "code",
   "execution_count": null,
   "id": "5b5b580c",
   "metadata": {},
   "outputs": [],
   "source": []
  },
  {
   "cell_type": "code",
   "execution_count": null,
   "id": "0c1251e9",
   "metadata": {},
   "outputs": [],
   "source": []
  }
 ],
 "metadata": {
  "kernelspec": {
   "display_name": "Python 3 (ipykernel)",
   "language": "python",
   "name": "python3"
  },
  "language_info": {
   "codemirror_mode": {
    "name": "ipython",
    "version": 3
   },
   "file_extension": ".py",
   "mimetype": "text/x-python",
   "name": "python",
   "nbconvert_exporter": "python",
   "pygments_lexer": "ipython3",
   "version": "3.8.0"
  }
 },
 "nbformat": 4,
 "nbformat_minor": 5
}
