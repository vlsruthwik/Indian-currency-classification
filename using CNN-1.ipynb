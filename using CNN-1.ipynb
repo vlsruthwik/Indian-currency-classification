{
 "cells": [
  {
   "cell_type": "code",
   "execution_count": 1,
   "id": "afd279c5",
   "metadata": {},
   "outputs": [],
   "source": [
    "import tensorflow as tf\n",
    "from keras.preprocessing.image import ImageDataGenerator\n",
    "import numpy as np\n",
    "from keras.models import Sequential\n",
    "import matplotlib.pyplot as plt\n",
    "from keras.utils import load_img, img_to_array"
   ]
  },
  {
   "cell_type": "code",
   "execution_count": 2,
   "id": "1cce8ba3",
   "metadata": {},
   "outputs": [
    {
     "name": "stdout",
     "output_type": "stream",
     "text": [
      "Found 735 images belonging to 7 classes.\n",
      "Found 315 images belonging to 7 classes.\n"
     ]
    }
   ],
   "source": [
    "train_datagen = ImageDataGenerator(\n",
    "        rescale=1./255,\n",
    "        shear_range=0.2,\n",
    "        zoom_range=0.2,\n",
    "        rotation_range=30,\n",
    "        width_shift_range=0.2,\n",
    "        height_shift_range=0.2,\n",
    "        horizontal_flip=True)\n",
    "\n",
    "train_generator = train_datagen.flow_from_directory(\n",
    "    \"./data/train\",\n",
    "    target_size=(128,128),\n",
    "    batch_size=32,\n",
    "    shuffle=True,\n",
    "    seed=42,\n",
    "    color_mode=\"rgb\",\n",
    "    class_mode='categorical')\n",
    "\n",
    "test_datagen = ImageDataGenerator(rescale=1./255)\n",
    "\n",
    "test_generator = test_datagen.flow_from_directory(\n",
    "    \"./data/test\",\n",
    "    target_size=(128,128),\n",
    "    batch_size=32,\n",
    "    shuffle=True,\n",
    "    seed=42,\n",
    "    color_mode=\"rgb\",\n",
    "    class_mode='categorical')"
   ]
  },
  {
   "cell_type": "code",
   "execution_count": 3,
   "id": "5475afa5",
   "metadata": {},
   "outputs": [],
   "source": [
    "\n",
    "class myCallback(tf.keras.callbacks.Callback):\n",
    "    def on_epoch_end(self, epoch, logs={}):\n",
    "        if(logs.get('val_loss') < 0.1):\n",
    "            self.model.stop_training = True\n",
    "    \n",
    "        \n",
    "        \n",
    "            \n",
    "callbacks = myCallback()"
   ]
  },
  {
   "cell_type": "code",
   "execution_count": null,
   "id": "3fd26bf8",
   "metadata": {},
   "outputs": [],
   "source": []
  },
  {
   "cell_type": "code",
   "execution_count": 4,
   "id": "3caac808",
   "metadata": {},
   "outputs": [
    {
     "name": "stdout",
     "output_type": "stream",
     "text": [
      "Model: \"sequential\"\n",
      "_________________________________________________________________\n",
      " Layer (type)                Output Shape              Param #   \n",
      "=================================================================\n",
      " conv2d (Conv2D)             (None, 126, 126, 32)      896       \n",
      "                                                                 \n",
      " max_pooling2d (MaxPooling2D  (None, 63, 63, 32)       0         \n",
      " )                                                               \n",
      "                                                                 \n",
      " conv2d_1 (Conv2D)           (None, 61, 61, 128)       36992     \n",
      "                                                                 \n",
      " max_pooling2d_1 (MaxPooling  (None, 30, 30, 128)      0         \n",
      " 2D)                                                             \n",
      "                                                                 \n",
      " conv2d_2 (Conv2D)           (None, 28, 28, 32)        36896     \n",
      "                                                                 \n",
      " max_pooling2d_2 (MaxPooling  (None, 14, 14, 32)       0         \n",
      " 2D)                                                             \n",
      "                                                                 \n",
      " flatten (Flatten)           (None, 6272)              0         \n",
      "                                                                 \n",
      " dense (Dense)               (None, 512)               3211776   \n",
      "                                                                 \n",
      " dense_1 (Dense)             (None, 7)                 3591      \n",
      "                                                                 \n",
      "=================================================================\n",
      "Total params: 3,290,151\n",
      "Trainable params: 3,290,151\n",
      "Non-trainable params: 0\n",
      "_________________________________________________________________\n"
     ]
    }
   ],
   "source": [
    "model = Sequential([\n",
    "      tf.keras.layers.Conv2D(32, (3,3), activation='relu', input_shape=(128, 128, 3)),\n",
    "      tf.keras.layers.MaxPooling2D(2, 2),\n",
    "#       tf.keras.layers.Conv2D(64, (3,3), activation='relu'),\n",
    "#       tf.keras.layers.MaxPooling2D(2,2),\n",
    "      tf.keras.layers.Conv2D(128, (3,3), activation='relu'),\n",
    "      tf.keras.layers.MaxPooling2D(2,2),\n",
    "      tf.keras.layers.Conv2D(32, (3,3), activation='relu'),\n",
    "      tf.keras.layers.MaxPooling2D(2,2),\n",
    "      tf.keras.layers.Flatten(),\n",
    "      tf.keras.layers.Dense(512, activation='relu'),\n",
    "      tf.keras.layers.Dense(7, activation='softmax')\n",
    "])\n",
    "    \n",
    "model.compile(optimizer = 'adam', \n",
    "              loss='categorical_crossentropy', \n",
    "              metrics=['accuracy'])\n",
    "\n",
    "model.summary()"
   ]
  },
  {
   "cell_type": "code",
   "execution_count": 5,
   "id": "cfdb8a73",
   "metadata": {},
   "outputs": [
    {
     "name": "stdout",
     "output_type": "stream",
     "text": [
      "Epoch 1/20\n",
      "23/23 [==============================] - 11s 468ms/step - loss: 1.8193 - accuracy: 0.2558 - val_loss: 1.3101 - val_accuracy: 0.4571\n",
      "Epoch 2/20\n",
      "23/23 [==============================] - 10s 426ms/step - loss: 1.0742 - accuracy: 0.5619 - val_loss: 0.9339 - val_accuracy: 0.6063\n",
      "Epoch 3/20\n",
      "23/23 [==============================] - 9s 408ms/step - loss: 0.7069 - accuracy: 0.7252 - val_loss: 0.7038 - val_accuracy: 0.7270\n",
      "Epoch 4/20\n",
      "23/23 [==============================] - 10s 412ms/step - loss: 0.6028 - accuracy: 0.7673 - val_loss: 0.7003 - val_accuracy: 0.7429\n",
      "Epoch 5/20\n",
      "23/23 [==============================] - 10s 414ms/step - loss: 0.5532 - accuracy: 0.7796 - val_loss: 0.6184 - val_accuracy: 0.7302\n",
      "Epoch 6/20\n",
      "23/23 [==============================] - 9s 408ms/step - loss: 0.5645 - accuracy: 0.7769 - val_loss: 0.4826 - val_accuracy: 0.8381\n",
      "Epoch 7/20\n",
      "23/23 [==============================] - 9s 405ms/step - loss: 0.4656 - accuracy: 0.8286 - val_loss: 0.5807 - val_accuracy: 0.7968\n",
      "Epoch 8/20\n",
      "23/23 [==============================] - 10s 425ms/step - loss: 0.3855 - accuracy: 0.8367 - val_loss: 0.5508 - val_accuracy: 0.8254\n",
      "Epoch 9/20\n",
      "23/23 [==============================] - 10s 439ms/step - loss: 0.4391 - accuracy: 0.8327 - val_loss: 0.5437 - val_accuracy: 0.8000\n",
      "Epoch 10/20\n",
      "23/23 [==============================] - 9s 407ms/step - loss: 0.3989 - accuracy: 0.8435 - val_loss: 0.4600 - val_accuracy: 0.8508\n",
      "Epoch 11/20\n",
      "23/23 [==============================] - 9s 410ms/step - loss: 0.4023 - accuracy: 0.8381 - val_loss: 0.3207 - val_accuracy: 0.9016\n",
      "Epoch 12/20\n",
      "23/23 [==============================] - 10s 419ms/step - loss: 0.3190 - accuracy: 0.8884 - val_loss: 0.4137 - val_accuracy: 0.8730\n",
      "Epoch 13/20\n",
      "23/23 [==============================] - 10s 451ms/step - loss: 0.2716 - accuracy: 0.8966 - val_loss: 0.4769 - val_accuracy: 0.8413\n",
      "Epoch 14/20\n",
      "23/23 [==============================] - 10s 447ms/step - loss: 0.2226 - accuracy: 0.9102 - val_loss: 0.3857 - val_accuracy: 0.8698\n",
      "Epoch 15/20\n",
      "23/23 [==============================] - 10s 422ms/step - loss: 0.3416 - accuracy: 0.8830 - val_loss: 0.4677 - val_accuracy: 0.8317\n",
      "Epoch 16/20\n",
      "23/23 [==============================] - 9s 407ms/step - loss: 0.3667 - accuracy: 0.8544 - val_loss: 0.2907 - val_accuracy: 0.8984\n",
      "Epoch 17/20\n",
      "23/23 [==============================] - 9s 401ms/step - loss: 0.2808 - accuracy: 0.8993 - val_loss: 0.3765 - val_accuracy: 0.8825\n",
      "Epoch 18/20\n",
      "23/23 [==============================] - 9s 405ms/step - loss: 0.2461 - accuracy: 0.9116 - val_loss: 0.3793 - val_accuracy: 0.8635\n",
      "Epoch 19/20\n",
      "23/23 [==============================] - 9s 405ms/step - loss: 0.2939 - accuracy: 0.9020 - val_loss: 0.2610 - val_accuracy: 0.9206\n",
      "Epoch 20/20\n",
      "23/23 [==============================] - 9s 410ms/step - loss: 0.2227 - accuracy: 0.9075 - val_loss: 0.3377 - val_accuracy: 0.8984\n"
     ]
    }
   ],
   "source": [
    "epochs = 20\n",
    "\n",
    "history = model.fit(x = train_generator,\n",
    "                    validation_data=test_generator ,\n",
    "                    batch_size=32,\n",
    "                    verbose=1, \n",
    "                    epochs=epochs,\n",
    "                    callbacks=[callbacks]\n",
    "                   )"
   ]
  },
  {
   "cell_type": "code",
   "execution_count": 6,
   "id": "aa623255",
   "metadata": {},
   "outputs": [
    {
     "name": "stdout",
     "output_type": "stream",
     "text": [
      "10/10 [==============================] - 1s 93ms/step - loss: 0.3377 - accuracy: 0.8984\n"
     ]
    },
    {
     "data": {
      "text/plain": [
       "[0.3376905918121338, 0.8984127044677734]"
      ]
     },
     "execution_count": 6,
     "metadata": {},
     "output_type": "execute_result"
    }
   ],
   "source": [
    "model.evaluate(test_generator)"
   ]
  },
  {
   "cell_type": "code",
   "execution_count": 7,
   "id": "cc3e645d",
   "metadata": {},
   "outputs": [],
   "source": [
    "no_epochs = len(history.history['loss'])"
   ]
  },
  {
   "cell_type": "code",
   "execution_count": 8,
   "id": "c103819d",
   "metadata": {},
   "outputs": [
    {
     "data": {
      "image/png": "[encoded data removed]",
      "text/plain": [
       "<Figure size 432x288 with 1 Axes>"
      ]
     },
     "metadata": {
      "needs_background": "light"
     },
     "output_type": "display_data"
    }
   ],
   "source": [
    "loss_train = history.history['loss']\n",
    "loss_val = history.history['val_loss']\n",
    "ep = range(no_epochs)\n",
    "plt.plot(ep, loss_train, label='Training loss')\n",
    "plt.plot(ep, loss_val, label='validation loss')\n",
    "plt.title('Training and Validation loss')\n",
    "plt.xlabel('Epochs')\n",
    "plt.ylabel('Loss')\n",
    "plt.legend()\n",
    "plt.show()"
   ]
  },
  {
   "cell_type": "code",
   "execution_count": 9,
   "id": "92bf95fc",
   "metadata": {},
   "outputs": [
    {
     "data": {
      "image/png": "[encoded data removed]",
      "text/plain": [
       "<Figure size 432x288 with 1 Axes>"
      ]
     },
     "metadata": {
      "needs_background": "light"
     },
     "output_type": "display_data"
    }
   ],
   "source": [
    "loss_train = history.history['accuracy']\n",
    "loss_val = history.history['val_accuracy']\n",
    "ep = range(no_epochs)\n",
    "plt.plot(ep, loss_train,label='Training accuracy')\n",
    "plt.plot(ep, loss_val, label='validation accuracy')\n",
    "plt.title('Training and Validation accuracy')\n",
    "plt.xlabel('Epochs')\n",
    "plt.ylabel('Accuracy')\n",
    "plt.legend()\n",
    "plt.show()"
   ]
  },
  {
   "cell_type": "code",
   "execution_count": 10,
   "id": "3ed6dd8a",
   "metadata": {},
   "outputs": [],
   "source": [
    "def single_predict(file):\n",
    "    test_image=load_img(file, target_size=(128,128))\n",
    "    test_image=img_to_array(test_image)\n",
    "    test_image=np.expand_dims(test_image,axis=0)\n",
    "    result=model.predict(test_image)\n",
    "    sorted_classes = ['10', '100', '20', '200', '2000', '50', '500']\n",
    "    return sorted_classes[result.argmax()]"
   ]
  },
  {
   "cell_type": "code",
   "execution_count": 11,
   "id": "4141414a",
   "metadata": {},
   "outputs": [
    {
     "name": "stdout",
     "output_type": "stream",
     "text": [
      "1/1 [==============================] - 0s 81ms/step\n"
     ]
    },
    {
     "data": {
      "text/plain": [
       "'2000'"
      ]
     },
     "execution_count": 11,
     "metadata": {},
     "output_type": "execute_result"
    }
   ],
   "source": [
    "single_predict(\"data/single/2000rs.jpg\")"
   ]
  },
  {
   "cell_type": "code",
   "execution_count": null,
   "id": "449b3dfa",
   "metadata": {},
   "outputs": [],
   "source": []
  },
  {
   "cell_type": "code",
   "execution_count": 12,
   "id": "11eb7f90",
   "metadata": {},
   "outputs": [
    {
     "data": {
      "text/plain": [
       "{'10': 0, '100': 1, '20': 2, '200': 3, '2000': 4, '50': 5, '500': 6}"
      ]
     },
     "execution_count": 12,
     "metadata": {},
     "output_type": "execute_result"
    }
   ],
   "source": [
    "train_generator.class_indices"
   ]
  },
  {
   "cell_type": "code",
   "execution_count": 13,
   "id": "2a2ade66",
   "metadata": {},
   "outputs": [],
   "source": [
    "# model.save_weights('optimised_CNN')"
   ]
  },
  {
   "cell_type": "code",
   "execution_count": 14,
   "id": "05c29292",
   "metadata": {},
   "outputs": [],
   "source": [
    "# import cv2\n",
    "# import numpy as np\n",
    "\n",
    "\n",
    "# url = input()\n",
    "# cap = cv2.VideoCapture(url+\"/video\")\n",
    "\n",
    "# while(True):\n",
    "#     font = cv2.FONT_HERSHEY_SIMPLEX\n",
    "#     fontScale = 1\n",
    "#     color = (255, 0, 0)\n",
    "#     thickness = 2\n",
    "    \n",
    "#     ret, frame = cap.read()\n",
    "#     cv2.imwrite(\"cv_clicked.jpg\",frame)\n",
    "#     res = single_predict(\"cv_clicked.jpg\")\n",
    "#     print(res)\n",
    "#     cv2.putText(frame,res,(50, 50),font,fontScale,color,thickness)\n",
    "#     cv2.imshow('frame',frame)\n",
    "    \n",
    "    \n",
    "#     if cv2.waitKey(1) & 0xFF == ord('q'):\n",
    "#         break\n",
    "\n",
    "# cap.release()\n",
    "# cv2.destroyAllWindows()"
   ]
  },
  {
   "cell_type": "code",
   "execution_count": null,
   "id": "5b5b580c",
   "metadata": {},
   "outputs": [],
   "source": []
  },
  {
   "cell_type": "code",
   "execution_count": null,
   "id": "0c1251e9",
   "metadata": {},
   "outputs": [],
   "source": []
  }
 ],
 "metadata": {
  "kernelspec": {
   "display_name": "Python 3 (ipykernel)",
   "language": "python",
   "name": "python3"
  },
  "language_info": {
   "codemirror_mode": {
    "name": "ipython",
    "version": 3
   },
   "file_extension": ".py",
   "mimetype": "text/x-python",
   "name": "python",
   "nbconvert_exporter": "python",
   "pygments_lexer": "ipython3",
   "version": "3.8.0"
  }
 },
 "nbformat": 4,
 "nbformat_minor": 5
}
