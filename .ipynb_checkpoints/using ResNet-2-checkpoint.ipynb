{
 "cells": [
  {
   "cell_type": "code",
   "execution_count": 1,
   "id": "afd279c5",
   "metadata": {},
   "outputs": [],
   "source": [
    "import tensorflow as tf\n",
    "from keras.preprocessing.image import ImageDataGenerator\n",
    "import numpy as np\n",
    "from keras.models import Sequential\n",
    "import matplotlib.pyplot as plt\n",
    "from keras.utils import load_img, img_to_array"
   ]
  },
  {
   "cell_type": "code",
   "execution_count": 2,
   "id": "1cce8ba3",
   "metadata": {},
   "outputs": [
    {
     "name": "stdout",
     "output_type": "stream",
     "text": [
      "Found 735 images belonging to 7 classes.\n",
      "Found 315 images belonging to 7 classes.\n"
     ]
    }
   ],
   "source": [
    "train_datagen = ImageDataGenerator(\n",
    "        rescale=1./255,\n",
    "        shear_range=0.2,\n",
    "        zoom_range=0.2,\n",
    "        rotation_range=30,\n",
    "        width_shift_range=0.2,\n",
    "        height_shift_range=0.2,\n",
    "        horizontal_flip=True)\n",
    "\n",
    "train_generator = train_datagen.flow_from_directory(\n",
    "    \"./data/train\",\n",
    "    target_size=(128,128),\n",
    "    batch_size=32,\n",
    "    shuffle=True,\n",
    "    seed=42,\n",
    "    color_mode=\"rgb\",\n",
    "    class_mode='categorical')\n",
    "\n",
    "test_datagen = ImageDataGenerator(rescale=1./255)\n",
    "\n",
    "test_generator = test_datagen.flow_from_directory(\n",
    "    \"./data/test\",\n",
    "    target_size=(128,128),\n",
    "    batch_size=32,\n",
    "    shuffle=True,\n",
    "    seed=42,\n",
    "    color_mode=\"rgb\",\n",
    "    class_mode='categorical')"
   ]
  },
  {
   "cell_type": "code",
   "execution_count": 3,
   "id": "5475afa5",
   "metadata": {},
   "outputs": [],
   "source": [
    "\n",
    "class myCallback(tf.keras.callbacks.Callback):\n",
    "    def on_epoch_end(self, epoch, logs={}):\n",
    "        if(logs.get('val_loss') < 0.1):\n",
    "            self.model.stop_training = True\n",
    "    \n",
    "        \n",
    "        \n",
    "            \n",
    "callbacks = myCallback()"
   ]
  },
  {
   "cell_type": "code",
   "execution_count": 4,
   "id": "3caac808",
   "metadata": {},
   "outputs": [
    {
     "name": "stdout",
     "output_type": "stream",
     "text": [
      "Model: \"sequential\"\n",
      "_________________________________________________________________\n",
      " Layer (type)                Output Shape              Param #   \n",
      "=================================================================\n",
      " conv2d (Conv2D)             (None, 126, 126, 32)      896       \n",
      "                                                                 \n",
      " max_pooling2d (MaxPooling2D  (None, 63, 63, 32)       0         \n",
      " )                                                               \n",
      "                                                                 \n",
      " conv2d_1 (Conv2D)           (None, 61, 61, 128)       36992     \n",
      "                                                                 \n",
      " max_pooling2d_1 (MaxPooling  (None, 30, 30, 128)      0         \n",
      " 2D)                                                             \n",
      "                                                                 \n",
      " conv2d_2 (Conv2D)           (None, 28, 28, 32)        36896     \n",
      "                                                                 \n",
      " max_pooling2d_2 (MaxPooling  (None, 14, 14, 32)       0         \n",
      " 2D)                                                             \n",
      "                                                                 \n",
      " flatten (Flatten)           (None, 6272)              0         \n",
      "                                                                 \n",
      " dense (Dense)               (None, 512)               3211776   \n",
      "                                                                 \n",
      " dense_1 (Dense)             (None, 7)                 3591      \n",
      "                                                                 \n",
      "=================================================================\n",
      "Total params: 3,290,151\n",
      "Trainable params: 3,290,151\n",
      "Non-trainable params: 0\n",
      "_________________________________________________________________\n"
     ]
    }
   ],
   "source": [
    "model = Sequential([\n",
    "      tf.keras.layers.Conv2D(32, (3,3), activation='relu', input_shape=(128, 128, 3)),\n",
    "      tf.keras.layers.MaxPooling2D(2, 2),\n",
    "#       tf.keras.layers.Conv2D(64, (3,3), activation='relu'),\n",
    "#       tf.keras.layers.MaxPooling2D(2,2),\n",
    "      tf.keras.layers.Conv2D(128, (3,3), activation='relu'),\n",
    "      tf.keras.layers.MaxPooling2D(2,2),\n",
    "      tf.keras.layers.Conv2D(32, (3,3), activation='relu'),\n",
    "      tf.keras.layers.MaxPooling2D(2,2),\n",
    "      tf.keras.layers.Flatten(),\n",
    "      tf.keras.layers.Dense(512, activation='relu'),\n",
    "      tf.keras.layers.Dense(7, activation='softmax')\n",
    "])\n",
    "    \n",
    "model.compile(optimizer = 'adam', \n",
    "              loss='categorical_crossentropy', \n",
    "              metrics=['accuracy'])\n",
    "\n",
    "model.summary()"
   ]
  },
  {
   "cell_type": "code",
   "execution_count": 5,
   "id": "cfdb8a73",
   "metadata": {},
   "outputs": [
    {
     "name": "stdout",
     "output_type": "stream",
     "text": [
      "Epoch 1/20\n",
      "23/23 [==============================] - 11s 431ms/step - loss: 1.8703 - accuracy: 0.2381 - val_loss: 1.4599 - val_accuracy: 0.3778\n",
      "Epoch 2/20\n",
      "23/23 [==============================] - 10s 413ms/step - loss: 1.3342 - accuracy: 0.4259 - val_loss: 1.1009 - val_accuracy: 0.5810\n",
      "Epoch 3/20\n",
      "23/23 [==============================] - 10s 419ms/step - loss: 0.9018 - accuracy: 0.6463 - val_loss: 0.9813 - val_accuracy: 0.6349\n",
      "Epoch 4/20\n",
      "23/23 [==============================] - 10s 437ms/step - loss: 0.7132 - accuracy: 0.7116 - val_loss: 0.7149 - val_accuracy: 0.7302\n",
      "Epoch 5/20\n",
      "23/23 [==============================] - 10s 434ms/step - loss: 0.6996 - accuracy: 0.7442 - val_loss: 0.6788 - val_accuracy: 0.7429\n",
      "Epoch 6/20\n",
      "23/23 [==============================] - 10s 436ms/step - loss: 0.5518 - accuracy: 0.7986 - val_loss: 0.6608 - val_accuracy: 0.7810\n",
      "Epoch 7/20\n",
      "23/23 [==============================] - 10s 436ms/step - loss: 0.5003 - accuracy: 0.8190 - val_loss: 0.4030 - val_accuracy: 0.8698\n",
      "Epoch 8/20\n",
      "23/23 [==============================] - 10s 441ms/step - loss: 0.3900 - accuracy: 0.8748 - val_loss: 0.4952 - val_accuracy: 0.8095\n",
      "Epoch 9/20\n",
      "23/23 [==============================] - 10s 439ms/step - loss: 0.3775 - accuracy: 0.8612 - val_loss: 0.4454 - val_accuracy: 0.8317\n",
      "Epoch 10/20\n",
      "23/23 [==============================] - 10s 437ms/step - loss: 0.3532 - accuracy: 0.8612 - val_loss: 0.3472 - val_accuracy: 0.8730\n",
      "Epoch 11/20\n",
      "23/23 [==============================] - 10s 442ms/step - loss: 0.3226 - accuracy: 0.8816 - val_loss: 0.4038 - val_accuracy: 0.8381\n",
      "Epoch 12/20\n",
      "23/23 [==============================] - 10s 441ms/step - loss: 0.3043 - accuracy: 0.8898 - val_loss: 0.3249 - val_accuracy: 0.9143\n",
      "Epoch 13/20\n",
      "23/23 [==============================] - 10s 440ms/step - loss: 0.2459 - accuracy: 0.9129 - val_loss: 0.2938 - val_accuracy: 0.8825\n",
      "Epoch 14/20\n",
      "23/23 [==============================] - 10s 438ms/step - loss: 0.2986 - accuracy: 0.8884 - val_loss: 0.3536 - val_accuracy: 0.8762\n",
      "Epoch 15/20\n",
      "23/23 [==============================] - 10s 434ms/step - loss: 0.3973 - accuracy: 0.8544 - val_loss: 0.3536 - val_accuracy: 0.8921\n",
      "Epoch 16/20\n",
      "23/23 [==============================] - 10s 434ms/step - loss: 0.2847 - accuracy: 0.9075 - val_loss: 0.3992 - val_accuracy: 0.8857\n",
      "Epoch 17/20\n",
      "23/23 [==============================] - 10s 438ms/step - loss: 0.3534 - accuracy: 0.8776 - val_loss: 0.2940 - val_accuracy: 0.8825\n",
      "Epoch 18/20\n",
      "23/23 [==============================] - 10s 437ms/step - loss: 0.2938 - accuracy: 0.8789 - val_loss: 0.2018 - val_accuracy: 0.9302\n",
      "Epoch 19/20\n",
      "23/23 [==============================] - 10s 438ms/step - loss: 0.2135 - accuracy: 0.9170 - val_loss: 0.2386 - val_accuracy: 0.9429\n",
      "Epoch 20/20\n",
      "23/23 [==============================] - 10s 453ms/step - loss: 0.1939 - accuracy: 0.9265 - val_loss: 0.3640 - val_accuracy: 0.8571\n"
     ]
    }
   ],
   "source": [
    "epochs = 20\n",
    "\n",
    "history = model.fit(x = train_generator,\n",
    "                    validation_data=test_generator ,\n",
    "                    batch_size=32,\n",
    "                    verbose=1, \n",
    "                    epochs=epochs,\n",
    "                    callbacks=[callbacks]\n",
    "                   )"
   ]
  },
  {
   "cell_type": "code",
   "execution_count": 6,
   "id": "aa623255",
   "metadata": {},
   "outputs": [
    {
     "name": "stdout",
     "output_type": "stream",
     "text": [
      "10/10 [==============================] - 1s 100ms/step - loss: 0.3640 - accuracy: 0.8571\n"
     ]
    },
    {
     "data": {
      "text/plain": [
       "[0.36397162079811096, 0.8571428656578064]"
      ]
     },
     "execution_count": 6,
     "metadata": {},
     "output_type": "execute_result"
    }
   ],
   "source": [
    "model.evaluate(test_generator)"
   ]
  },
  {
   "cell_type": "code",
   "execution_count": 7,
   "id": "cc3e645d",
   "metadata": {},
   "outputs": [],
   "source": [
    "no_epochs = len(history.history['loss'])"
   ]
  },
  {
   "cell_type": "code",
   "execution_count": 8,
   "id": "c103819d",
   "metadata": {},
   "outputs": [
    {
     "data": {
      "image/png": "[encoded data removed]",
      "text/plain": [
       "<Figure size 432x288 with 1 Axes>"
      ]
     },
     "metadata": {
      "needs_background": "light"
     },
     "output_type": "display_data"
    }
   ],
   "source": [
    "loss_train = history.history['loss']\n",
    "loss_val = history.history['val_loss']\n",
    "ep = range(no_epochs)\n",
    "plt.plot(ep, loss_train, label='Training loss')\n",
    "plt.plot(ep, loss_val, label='validation loss')\n",
    "plt.title('Training and Validation loss')\n",
    "plt.xlabel('Epochs')\n",
    "plt.ylabel('Loss')\n",
    "plt.legend()\n",
    "plt.show()"
   ]
  },
  {
   "cell_type": "code",
   "execution_count": 9,
   "id": "92bf95fc",
   "metadata": {},
   "outputs": [
    {
     "data": {
      "image/png": "[encoded data removed]",
      "text/plain": [
       "<Figure size 432x288 with 1 Axes>"
      ]
     },
     "metadata": {
      "needs_background": "light"
     },
     "output_type": "display_data"
    }
   ],
   "source": [
    "loss_train = history.history['accuracy']\n",
    "loss_val = history.history['val_accuracy']\n",
    "ep = range(no_epochs)\n",
    "plt.plot(ep, loss_train,label='Training accuracy')\n",
    "plt.plot(ep, loss_val, label='validation accuracy')\n",
    "plt.title('Training and Validation accuracy')\n",
    "plt.xlabel('Epochs')\n",
    "plt.ylabel('Accuracy')\n",
    "plt.legend()\n",
    "plt.show()"
   ]
  },
  {
   "cell_type": "code",
   "execution_count": 10,
   "id": "3ed6dd8a",
   "metadata": {},
   "outputs": [],
   "source": [
    "def single_predict(file):\n",
    "    test_image=load_img(file, target_size=(128,128))\n",
    "    test_image=img_to_array(test_image)\n",
    "    test_image=np.expand_dims(test_image,axis=0)\n",
    "    result=model.predict(test_image)\n",
    "    sorted_classes = ['10', '100', '20', '200', '2000', '50', '500']\n",
    "    return sorted_classes[result.argmax()]"
   ]
  },
  {
   "cell_type": "code",
   "execution_count": 11,
   "id": "4141414a",
   "metadata": {},
   "outputs": [
    {
     "name": "stdout",
     "output_type": "stream",
     "text": [
      "1/1 [==============================] - 0s 78ms/step\n"
     ]
    },
    {
     "data": {
      "text/plain": [
       "'2000'"
      ]
     },
     "execution_count": 11,
     "metadata": {},
     "output_type": "execute_result"
    }
   ],
   "source": [
    "single_predict(\"data/single/2000rs.jpg\")"
   ]
  },
  {
   "cell_type": "code",
   "execution_count": null,
   "id": "449b3dfa",
   "metadata": {},
   "outputs": [],
   "source": []
  },
  {
   "cell_type": "raw",
   "id": "ebba91c0",
   "metadata": {},
   "source": [
    ">>> t = [\"10\",\"20\",\"50\",\"100\",\"200\",\"500\",\"2000\"]\n",
    ">>> sorted(t)\n",
    "['10', '100', '20', '200', '2000', '50', '500']"
   ]
  },
  {
   "cell_type": "code",
   "execution_count": 12,
   "id": "2a2ade66",
   "metadata": {},
   "outputs": [],
   "source": [
    "# model.save_weights('optimised_CNN')"
   ]
  },
  {
   "cell_type": "code",
   "execution_count": 13,
   "id": "05c29292",
   "metadata": {},
   "outputs": [],
   "source": [
    "# import cv2\n",
    "# import numpy as np\n",
    "\n",
    "\n",
    "# url = input()\n",
    "# cap = cv2.VideoCapture(url+\"/video\")\n",
    "\n",
    "# while(True):\n",
    "#     font = cv2.FONT_HERSHEY_SIMPLEX\n",
    "#     fontScale = 1\n",
    "#     color = (255, 0, 0)\n",
    "#     thickness = 2\n",
    "    \n",
    "#     ret, frame = cap.read()\n",
    "#     cv2.imwrite(\"cv_clicked.jpg\",frame)\n",
    "#     res = single_predict(\"cv_clicked.jpg\")\n",
    "#     print(res)\n",
    "#     cv2.putText(frame,res,(50, 50),font,fontScale,color,thickness)\n",
    "#     cv2.imshow('frame',frame)\n",
    "    \n",
    "    \n",
    "#     if cv2.waitKey(1) & 0xFF == ord('q'):\n",
    "#         break\n",
    "\n",
    "# cap.release()\n",
    "# cv2.destroyAllWindows()"
   ]
  },
  {
   "cell_type": "code",
   "execution_count": null,
   "id": "5b5b580c",
   "metadata": {},
   "outputs": [],
   "source": []
  },
  {
   "cell_type": "code",
   "execution_count": null,
   "id": "0c1251e9",
   "metadata": {},
   "outputs": [],
   "source": []
  }
 ],
 "metadata": {
  "kernelspec": {
   "display_name": "Python 3 (ipykernel)",
   "language": "python",
   "name": "python3"
  },
  "language_info": {
   "codemirror_mode": {
    "name": "ipython",
    "version": 3
   },
   "file_extension": ".py",
   "mimetype": "text/x-python",
   "name": "python",
   "nbconvert_exporter": "python",
   "pygments_lexer": "ipython3",
   "version": "3.8.0"
  }
 },
 "nbformat": 4,
 "nbformat_minor": 5
}
