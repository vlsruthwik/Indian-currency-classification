{
 "cells": [
  {
   "cell_type": "code",
   "execution_count": null,
   "metadata": {
    "execution": {
     "iopub.execute_input": "2023-02-07T04:56:25.640369Z",
     "iopub.status.busy": "2023-02-07T04:56:25.640010Z",
     "iopub.status.idle": "2023-02-07T04:56:25.646931Z",
     "shell.execute_reply": "2023-02-07T04:56:25.645340Z",
     "shell.execute_reply.started": "2023-02-07T04:56:25.640341Z"
    }
   },
   "outputs": [],
   "source": [
    "import tensorflow as tf\n",
    "import keras\n",
    "from keras.preprocessing.image import ImageDataGenerator\n",
    "import numpy as np\n",
    "from keras.models import Sequential\n",
    "import matplotlib.pyplot as plt\n",
    "import efficientnet.keras as efn\n",
    "from tensorflow.keras.applications import EfficientNetB0\n",
    "from keras.models import Model\n",
    "# from keras.utils import load_img, img_to_array"
   ]
  },
  {
   "cell_type": "code",
   "execution_count": null,
   "metadata": {
    "execution": {
     "iopub.execute_input": "2023-02-07T04:56:26.407777Z",
     "iopub.status.busy": "2023-02-07T04:56:26.407398Z",
     "iopub.status.idle": "2023-02-07T04:56:26.738968Z",
     "shell.execute_reply": "2023-02-07T04:56:26.738302Z",
     "shell.execute_reply.started": "2023-02-07T04:56:26.407745Z"
    }
   },
   "outputs": [],
   "source": [
    "train_datagen = ImageDataGenerator(\n",
    "        rescale=1./255,\n",
    "        shear_range=0.2,\n",
    "        rotation_range=30,\n",
    "        horizontal_flip=True)\n",
    "\n",
    "train_generator = train_datagen.flow_from_directory(\n",
    "    \"../input/indian-currency-note-images-dataset-2020/Indian currency dataset v1/training/\",\n",
    "    target_size=(64,64),\n",
    "    batch_size=32,\n",
    "    shuffle=True,\n",
    "    seed=42,\n",
    "    color_mode=\"rgb\",\n",
    "    class_mode='categorical')\n",
    "\n",
    "test_datagen = ImageDataGenerator(rescale=1./255)\n",
    "\n",
    "test_generator = test_datagen.flow_from_directory(\n",
    "    \"../input/indian-currency-note-images-dataset-2020/Indian currency dataset v1/validation/\",\n",
    "    target_size=(64,64),\n",
    "    batch_size=32,\n",
    "    shuffle=True,\n",
    "    seed=42,\n",
    "    color_mode=\"rgb\",\n",
    "    class_mode='categorical')"
   ]
  },
  {
   "cell_type": "code",
   "execution_count": null,
   "metadata": {
    "execution": {
     "iopub.execute_input": "2023-02-07T04:56:49.642782Z",
     "iopub.status.busy": "2023-02-07T04:56:49.642365Z",
     "iopub.status.idle": "2023-02-07T04:56:51.670256Z",
     "shell.execute_reply": "2023-02-07T04:56:51.669232Z",
     "shell.execute_reply.started": "2023-02-07T04:56:49.642755Z"
    }
   },
   "outputs": [],
   "source": [
    "efficient_net = EfficientNetB0(weights='imagenet', include_top=False, input_shape=(64,64,3))\n",
    "\n",
    "output = efficient_net.layers[-1].output\n",
    "output = keras.layers.Flatten()(output)\n",
    "\n",
    "eff = Model(efficient_net.input, output)\n",
    "\n",
    "# for layer in resnet.layers:\n",
    "#     layer.trainable = False\n",
    "\n",
    "    \n",
    "model = Sequential([\n",
    "      eff,\n",
    "      tf.keras.layers.Dense(64, activation='relu'),\n",
    "      tf.keras.layers.Dropout(0.3),\n",
    "      tf.keras.layers.Dense(32, activation='relu'),\n",
    "      tf.keras.layers.Dropout(0.3),\n",
    "      tf.keras.layers.Dense(8, activation='softmax')\n",
    "])\n",
    "    \n",
    "model.compile(optimizer = 'adam', \n",
    "              loss='categorical_crossentropy', \n",
    "              metrics=['accuracy'])\n",
    "\n",
    "model.summary()"
   ]
  },
  {
   "cell_type": "code",
   "execution_count": null,
   "metadata": {
    "execution": {
     "iopub.execute_input": "2023-02-07T04:56:56.836151Z",
     "iopub.status.busy": "2023-02-07T04:56:56.835033Z",
     "iopub.status.idle": "2023-02-07T05:19:34.479725Z",
     "shell.execute_reply": "2023-02-07T05:19:34.478795Z",
     "shell.execute_reply.started": "2023-02-07T04:56:56.836109Z"
    }
   },
   "outputs": [],
   "source": [
    "epochs = 5\n",
    "\n",
    "history = model.fit(x = train_generator,validation_data=test_generator ,batch_size=32,verbose=1, epochs=epochs)"
   ]
  },
  {
   "cell_type": "code",
   "execution_count": null,
   "metadata": {
    "execution": {
     "iopub.execute_input": "2023-02-07T05:19:34.481745Z",
     "iopub.status.busy": "2023-02-07T05:19:34.481485Z",
     "iopub.status.idle": "2023-02-07T05:19:56.937410Z",
     "shell.execute_reply": "2023-02-07T05:19:56.936120Z",
     "shell.execute_reply.started": "2023-02-07T05:19:34.481722Z"
    }
   },
   "outputs": [],
   "source": [
    "model.evaluate(test_generator)"
   ]
  },
  {
   "cell_type": "code",
   "execution_count": null,
   "metadata": {
    "execution": {
     "iopub.execute_input": "2023-02-07T05:19:56.939557Z",
     "iopub.status.busy": "2023-02-07T05:19:56.938973Z",
     "iopub.status.idle": "2023-02-07T05:19:57.116306Z",
     "shell.execute_reply": "2023-02-07T05:19:57.115404Z",
     "shell.execute_reply.started": "2023-02-07T05:19:56.939525Z"
    }
   },
   "outputs": [],
   "source": [
    "loss_train = history.history['loss']\n",
    "loss_val = history.history['val_loss']\n",
    "ep = range(epochs)\n",
    "plt.plot(ep, loss_train, label='Training loss')\n",
    "plt.plot(ep, loss_val, label='validation loss')\n",
    "plt.title('Training and Validation loss')\n",
    "plt.xlabel('Epochs')\n",
    "plt.ylabel('Loss')\n",
    "plt.legend()\n",
    "plt.show()"
   ]
  },
  {
   "cell_type": "code",
   "execution_count": null,
   "metadata": {
    "execution": {
     "iopub.execute_input": "2023-02-07T05:19:57.120121Z",
     "iopub.status.busy": "2023-02-07T05:19:57.119835Z",
     "iopub.status.idle": "2023-02-07T05:19:57.281533Z",
     "shell.execute_reply": "2023-02-07T05:19:57.280579Z",
     "shell.execute_reply.started": "2023-02-07T05:19:57.120096Z"
    }
   },
   "outputs": [],
   "source": [
    "loss_train = history.history['accuracy']\n",
    "loss_val = history.history['val_accuracy']\n",
    "ep = range(epochs)\n",
    "plt.plot(ep, loss_train,label='Training accuracy')\n",
    "plt.plot(ep, loss_val, label='validation accuracy')\n",
    "plt.title('Training and Validation accuracy')\n",
    "plt.xlabel('Epochs')\n",
    "plt.ylabel('Accuracy')\n",
    "plt.legend()\n",
    "plt.show()"
   ]
  },
  {
   "cell_type": "code",
   "execution_count": null,
   "metadata": {},
   "outputs": [],
   "source": []
  },
  {
   "cell_type": "code",
   "execution_count": null,
   "metadata": {},
   "outputs": [],
   "source": []
  }
 ],
 "metadata": {
  "kernelspec": {
   "display_name": "Python 3 (ipykernel)",
   "language": "python",
   "name": "python3"
  },
  "language_info": {
   "codemirror_mode": {
    "name": "ipython",
    "version": 3
   },
   "file_extension": ".py",
   "mimetype": "text/x-python",
   "name": "python",
   "nbconvert_exporter": "python",
   "pygments_lexer": "ipython3",
   "version": "3.8.0"
  }
 },
 "nbformat": 4,
 "nbformat_minor": 4
}
