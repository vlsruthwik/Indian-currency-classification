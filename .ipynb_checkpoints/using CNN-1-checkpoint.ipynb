{
 "cells": [
  {
   "cell_type": "code",
   "execution_count": 1,
   "id": "afd279c5",
   "metadata": {},
   "outputs": [
    {
     "name": "stderr",
     "output_type": "stream",
     "text": [
      "C:\\Users\\V.L.S RUTHWIK\\AppData\\Local\\Programs\\Python\\Python38\\lib\\site-packages\\scipy\\__init__.py:146: UserWarning: A NumPy version >=1.16.5 and <1.23.0 is required for this version of SciPy (detected version 1.23.3\n",
      "  warnings.warn(f\"A NumPy version >={np_minversion} and <{np_maxversion}\"\n"
     ]
    }
   ],
   "source": [
    "import tensorflow as tf\n",
    "from keras.preprocessing.image import ImageDataGenerator\n",
    "import numpy as np\n",
    "from keras.models import Sequential\n",
    "import matplotlib.pyplot as plt\n",
    "from keras.utils import load_img, img_to_array"
   ]
  },
  {
   "cell_type": "code",
   "execution_count": 2,
   "id": "1cce8ba3",
   "metadata": {},
   "outputs": [
    {
     "name": "stdout",
     "output_type": "stream",
     "text": [
      "Found 735 images belonging to 7 classes.\n",
      "Found 315 images belonging to 7 classes.\n"
     ]
    }
   ],
   "source": [
    "train_datagen = ImageDataGenerator(\n",
    "        rescale=1./255,\n",
    "        shear_range=0.2,\n",
    "        rotation_range=30,\n",
    "        horizontal_flip=True)\n",
    "\n",
    "train_generator = train_datagen.flow_from_directory(\n",
    "    \"./data/train\",\n",
    "    target_size=(64,64),\n",
    "    batch_size=32,\n",
    "    shuffle=True,\n",
    "    seed=42,\n",
    "    color_mode=\"rgb\",\n",
    "    class_mode='categorical')\n",
    "\n",
    "test_datagen = ImageDataGenerator(rescale=1./255)\n",
    "\n",
    "test_generator = test_datagen.flow_from_directory(\n",
    "    \"./data/test\",\n",
    "    target_size=(64,64),\n",
    "    batch_size=32,\n",
    "    shuffle=True,\n",
    "    seed=42,\n",
    "    color_mode=\"rgb\",\n",
    "    class_mode='categorical')"
   ]
  },
  {
   "cell_type": "code",
   "execution_count": 3,
   "id": "3caac808",
   "metadata": {},
   "outputs": [
    {
     "name": "stdout",
     "output_type": "stream",
     "text": [
      "Model: \"sequential\"\n",
      "_________________________________________________________________\n",
      " Layer (type)                Output Shape              Param #   \n",
      "=================================================================\n",
      " conv2d (Conv2D)             (None, 62, 62, 128)       3584      \n",
      "                                                                 \n",
      " max_pooling2d (MaxPooling2D  (None, 31, 31, 128)      0         \n",
      " )                                                               \n",
      "                                                                 \n",
      " conv2d_1 (Conv2D)           (None, 29, 29, 64)        73792     \n",
      "                                                                 \n",
      " max_pooling2d_1 (MaxPooling  (None, 14, 14, 64)       0         \n",
      " 2D)                                                             \n",
      "                                                                 \n",
      " conv2d_2 (Conv2D)           (None, 12, 12, 32)        18464     \n",
      "                                                                 \n",
      " max_pooling2d_2 (MaxPooling  (None, 6, 6, 32)         0         \n",
      " 2D)                                                             \n",
      "                                                                 \n",
      " flatten (Flatten)           (None, 1152)              0         \n",
      "                                                                 \n",
      " dense (Dense)               (None, 512)               590336    \n",
      "                                                                 \n",
      " dense_1 (Dense)             (None, 7)                 3591      \n",
      "                                                                 \n",
      "=================================================================\n",
      "Total params: 689,767\n",
      "Trainable params: 689,767\n",
      "Non-trainable params: 0\n",
      "_________________________________________________________________\n"
     ]
    }
   ],
   "source": [
    "model = Sequential([\n",
    "      tf.keras.layers.Conv2D(128, (3,3), activation='relu', input_shape=(64, 64, 3)),\n",
    "      tf.keras.layers.MaxPooling2D(2, 2),\n",
    "      tf.keras.layers.Conv2D(64, (3,3), activation='relu'),\n",
    "      tf.keras.layers.MaxPooling2D(2,2),\n",
    "#       tf.keras.layers.Conv2D(128, (3,3), activation='relu'),\n",
    "#       tf.keras.layers.MaxPooling2D(2,2),\n",
    "      tf.keras.layers.Conv2D(32, (3,3), activation='relu'),\n",
    "      tf.keras.layers.MaxPooling2D(2,2),\n",
    "      tf.keras.layers.Flatten(),\n",
    "      tf.keras.layers.Dense(512, activation='relu'),\n",
    "      tf.keras.layers.Dense(7, activation='softmax')\n",
    "])\n",
    "    \n",
    "model.compile(optimizer = 'adam', \n",
    "              loss='categorical_crossentropy', \n",
    "              metrics=['accuracy'])\n",
    "\n",
    "model.summary()"
   ]
  },
  {
   "cell_type": "code",
   "execution_count": 4,
   "id": "cfdb8a73",
   "metadata": {},
   "outputs": [
    {
     "name": "stdout",
     "output_type": "stream",
     "text": [
      "Epoch 1/20\n",
      "23/23 [==============================] - 8s 310ms/step - loss: 1.7682 - accuracy: 0.2789 - val_loss: 1.1420 - val_accuracy: 0.6857\n",
      "Epoch 2/20\n",
      "23/23 [==============================] - 6s 280ms/step - loss: 0.9560 - accuracy: 0.6245 - val_loss: 0.7275 - val_accuracy: 0.7524\n",
      "Epoch 3/20\n",
      "23/23 [==============================] - 6s 277ms/step - loss: 0.6116 - accuracy: 0.7673 - val_loss: 0.5608 - val_accuracy: 0.8000\n",
      "Epoch 4/20\n",
      "23/23 [==============================] - 6s 280ms/step - loss: 0.5261 - accuracy: 0.7959 - val_loss: 0.5924 - val_accuracy: 0.7968\n",
      "Epoch 5/20\n",
      "23/23 [==============================] - 6s 277ms/step - loss: 0.3873 - accuracy: 0.8544 - val_loss: 0.3237 - val_accuracy: 0.9048\n",
      "Epoch 6/20\n",
      "23/23 [==============================] - 6s 275ms/step - loss: 0.3728 - accuracy: 0.8680 - val_loss: 0.4825 - val_accuracy: 0.8222\n",
      "Epoch 7/20\n",
      "23/23 [==============================] - 7s 284ms/step - loss: 0.2634 - accuracy: 0.9129 - val_loss: 0.2622 - val_accuracy: 0.9238\n",
      "Epoch 8/20\n",
      "23/23 [==============================] - 6s 277ms/step - loss: 0.2511 - accuracy: 0.9170 - val_loss: 0.2517 - val_accuracy: 0.9175\n",
      "Epoch 9/20\n",
      "23/23 [==============================] - 7s 283ms/step - loss: 0.1869 - accuracy: 0.9401 - val_loss: 0.2805 - val_accuracy: 0.9048\n",
      "Epoch 10/20\n",
      "23/23 [==============================] - 6s 274ms/step - loss: 0.1628 - accuracy: 0.9524 - val_loss: 0.2441 - val_accuracy: 0.9143\n",
      "Epoch 11/20\n",
      "23/23 [==============================] - 6s 276ms/step - loss: 0.1388 - accuracy: 0.9524 - val_loss: 0.1671 - val_accuracy: 0.9429\n",
      "Epoch 12/20\n",
      "23/23 [==============================] - 6s 276ms/step - loss: 0.0974 - accuracy: 0.9728 - val_loss: 0.2234 - val_accuracy: 0.9143\n",
      "Epoch 13/20\n",
      "23/23 [==============================] - 7s 283ms/step - loss: 0.1473 - accuracy: 0.9524 - val_loss: 0.1124 - val_accuracy: 0.9587\n",
      "Epoch 14/20\n",
      "23/23 [==============================] - 6s 281ms/step - loss: 0.1505 - accuracy: 0.9537 - val_loss: 0.1484 - val_accuracy: 0.9460\n",
      "Epoch 15/20\n",
      "23/23 [==============================] - 6s 279ms/step - loss: 0.2320 - accuracy: 0.9197 - val_loss: 0.2155 - val_accuracy: 0.9333\n",
      "Epoch 16/20\n",
      "23/23 [==============================] - 6s 279ms/step - loss: 0.1315 - accuracy: 0.9565 - val_loss: 0.1514 - val_accuracy: 0.9619\n",
      "Epoch 17/20\n",
      "23/23 [==============================] - 6s 273ms/step - loss: 0.1027 - accuracy: 0.9741 - val_loss: 0.1331 - val_accuracy: 0.9556\n",
      "Epoch 18/20\n",
      "23/23 [==============================] - 6s 278ms/step - loss: 0.0973 - accuracy: 0.9633 - val_loss: 0.4804 - val_accuracy: 0.8540\n",
      "Epoch 19/20\n",
      "23/23 [==============================] - 6s 280ms/step - loss: 0.2045 - accuracy: 0.9333 - val_loss: 0.2449 - val_accuracy: 0.9111\n",
      "Epoch 20/20\n",
      "23/23 [==============================] - 7s 283ms/step - loss: 0.1141 - accuracy: 0.9646 - val_loss: 0.0964 - val_accuracy: 0.9683\n"
     ]
    }
   ],
   "source": [
    "epochs = 20\n",
    "\n",
    "history = model.fit(x = train_generator,validation_data=test_generator ,batch_size=32,verbose=1, epochs=epochs)"
   ]
  },
  {
   "cell_type": "code",
   "execution_count": 5,
   "id": "aa623255",
   "metadata": {},
   "outputs": [
    {
     "name": "stdout",
     "output_type": "stream",
     "text": [
      "10/10 [==============================] - 1s 101ms/step - loss: 0.0964 - accuracy: 0.9683\n"
     ]
    },
    {
     "data": {
      "text/plain": [
       "[0.09643387794494629, 0.9682539701461792]"
      ]
     },
     "execution_count": 5,
     "metadata": {},
     "output_type": "execute_result"
    }
   ],
   "source": [
    "model.evaluate(test_generator)"
   ]
  },
  {
   "cell_type": "code",
   "execution_count": 6,
   "id": "c103819d",
   "metadata": {},
   "outputs": [
    {
     "data": {
      "image/png": "[encoded data removed]",
      "text/plain": [
       "<Figure size 432x288 with 1 Axes>"
      ]
     },
     "metadata": {
      "needs_background": "light"
     },
     "output_type": "display_data"
    }
   ],
   "source": [
    "loss_train = history.history['loss']\n",
    "loss_val = history.history['val_loss']\n",
    "ep = range(epochs)\n",
    "plt.plot(ep, loss_train, label='Training loss')\n",
    "plt.plot(ep, loss_val, label='validation loss')\n",
    "plt.title('Training and Validation loss')\n",
    "plt.xlabel('Epochs')\n",
    "plt.ylabel('Loss')\n",
    "plt.legend()\n",
    "plt.show()"
   ]
  },
  {
   "cell_type": "code",
   "execution_count": 7,
   "id": "92bf95fc",
   "metadata": {},
   "outputs": [
    {
     "data": {
      "image/png": "[encoded data removed]",
      "text/plain": [
       "<Figure size 432x288 with 1 Axes>"
      ]
     },
     "metadata": {
      "needs_background": "light"
     },
     "output_type": "display_data"
    }
   ],
   "source": [
    "loss_train = history.history['accuracy']\n",
    "loss_val = history.history['val_accuracy']\n",
    "ep = range(epochs)\n",
    "plt.plot(ep, loss_train,label='Training accuracy')\n",
    "plt.plot(ep, loss_val, label='validation accuracy')\n",
    "plt.title('Training and Validation accuracy')\n",
    "plt.xlabel('Epochs')\n",
    "plt.ylabel('Accuracy')\n",
    "plt.legend()\n",
    "plt.show()"
   ]
  },
  {
   "cell_type": "code",
   "execution_count": 8,
   "id": "3ed6dd8a",
   "metadata": {},
   "outputs": [],
   "source": [
    "def single_predict(file):\n",
    "    test_image=load_img(file, target_size=(64,64))\n",
    "    test_image=img_to_array(test_image)\n",
    "    test_image=np.expand_dims(test_image,axis=0)\n",
    "    result=model.predict(test_image)\n",
    "    sorted_classes = ['10', '100', '20', '200', '2000', '50', '500']\n",
    "    return sorted_classes[result.argmax()]"
   ]
  },
  {
   "cell_type": "code",
   "execution_count": 23,
   "id": "4141414a",
   "metadata": {},
   "outputs": [
    {
     "name": "stdout",
     "output_type": "stream",
     "text": [
      "1/1 [==============================] - 0s 24ms/step\n"
     ]
    },
    {
     "data": {
      "text/plain": [
       "'10'"
      ]
     },
     "execution_count": 23,
     "metadata": {},
     "output_type": "execute_result"
    }
   ],
   "source": [
    "single_predict(\"data/single/10rs.jpg\")"
   ]
  },
  {
   "cell_type": "code",
   "execution_count": null,
   "id": "449b3dfa",
   "metadata": {},
   "outputs": [],
   "source": []
  },
  {
   "cell_type": "raw",
   "id": "ebba91c0",
   "metadata": {},
   "source": [
    ">>> t = [\"10\",\"20\",\"50\",\"100\",\"200\",\"500\",\"2000\"]\n",
    ">>> sorted(t)\n",
    "['10', '100', '20', '200', '2000', '50', '500']"
   ]
  }
 ],
 "metadata": {
  "kernelspec": {
   "display_name": "Python 3 (ipykernel)",
   "language": "python",
   "name": "python3"
  },
  "language_info": {
   "codemirror_mode": {
    "name": "ipython",
    "version": 3
   },
   "file_extension": ".py",
   "mimetype": "text/x-python",
   "name": "python",
   "nbconvert_exporter": "python",
   "pygments_lexer": "ipython3",
   "version": "3.8.0"
  }
 },
 "nbformat": 4,
 "nbformat_minor": 5
}
