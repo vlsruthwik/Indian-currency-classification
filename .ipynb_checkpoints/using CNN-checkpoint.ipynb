{
 "cells": [
  {
   "cell_type": "code",
   "execution_count": 1,
   "id": "afd279c5",
   "metadata": {},
   "outputs": [
    {
     "name": "stderr",
     "output_type": "stream",
     "text": [
      "C:\\Users\\V.L.S RUTHWIK\\AppData\\Local\\Programs\\Python\\Python38\\lib\\site-packages\\scipy\\__init__.py:146: UserWarning: A NumPy version >=1.16.5 and <1.23.0 is required for this version of SciPy (detected version 1.23.3\n",
      "  warnings.warn(f\"A NumPy version >={np_minversion} and <{np_maxversion}\"\n"
     ]
    }
   ],
   "source": [
    "import tensorflow as tf\n",
    "from keras.preprocessing.image import ImageDataGenerator\n",
    "import numpy as np\n",
    "from keras.models import Sequential\n",
    "import matplotlib.pyplot as plt\n",
    "from keras.utils import load_img, img_to_array"
   ]
  },
  {
   "cell_type": "code",
   "execution_count": 2,
   "id": "1cce8ba3",
   "metadata": {},
   "outputs": [
    {
     "name": "stdout",
     "output_type": "stream",
     "text": [
      "Found 735 images belonging to 7 classes.\n",
      "Found 315 images belonging to 7 classes.\n"
     ]
    }
   ],
   "source": [
    "train_datagen = ImageDataGenerator(\n",
    "        rescale=1./255,\n",
    "        shear_range=0.2,\n",
    "        rotation_range=30,\n",
    "        horizontal_flip=True)\n",
    "\n",
    "train_generator = train_datagen.flow_from_directory(\n",
    "    \"./data/train\",\n",
    "    target_size=(64,64),\n",
    "    batch_size=32,\n",
    "    shuffle=True,\n",
    "    seed=42,\n",
    "    color_mode=\"rgb\",\n",
    "    class_mode='categorical')\n",
    "\n",
    "test_datagen = ImageDataGenerator(rescale=1./255)\n",
    "\n",
    "test_generator = test_datagen.flow_from_directory(\n",
    "    \"./data/test\",\n",
    "    target_size=(64,64),\n",
    "    batch_size=32,\n",
    "    shuffle=True,\n",
    "    seed=42,\n",
    "    color_mode=\"rgb\",\n",
    "    class_mode='categorical')"
   ]
  },
  {
   "cell_type": "code",
   "execution_count": 3,
   "id": "3caac808",
   "metadata": {},
   "outputs": [
    {
     "name": "stdout",
     "output_type": "stream",
     "text": [
      "Model: \"sequential\"\n",
      "_________________________________________________________________\n",
      " Layer (type)                Output Shape              Param #   \n",
      "=================================================================\n",
      " conv2d (Conv2D)             (None, 62, 62, 32)        896       \n",
      "                                                                 \n",
      " max_pooling2d (MaxPooling2D  (None, 31, 31, 32)       0         \n",
      " )                                                               \n",
      "                                                                 \n",
      " conv2d_1 (Conv2D)           (None, 29, 29, 64)        18496     \n",
      "                                                                 \n",
      " max_pooling2d_1 (MaxPooling  (None, 14, 14, 64)       0         \n",
      " 2D)                                                             \n",
      "                                                                 \n",
      " conv2d_2 (Conv2D)           (None, 12, 12, 128)       73856     \n",
      "                                                                 \n",
      " max_pooling2d_2 (MaxPooling  (None, 6, 6, 128)        0         \n",
      " 2D)                                                             \n",
      "                                                                 \n",
      " conv2d_3 (Conv2D)           (None, 4, 4, 128)         147584    \n",
      "                                                                 \n",
      " max_pooling2d_3 (MaxPooling  (None, 2, 2, 128)        0         \n",
      " 2D)                                                             \n",
      "                                                                 \n",
      " flatten (Flatten)           (None, 512)               0         \n",
      "                                                                 \n",
      " dense (Dense)               (None, 512)               262656    \n",
      "                                                                 \n",
      " dense_1 (Dense)             (None, 7)                 3591      \n",
      "                                                                 \n",
      "=================================================================\n",
      "Total params: 507,079\n",
      "Trainable params: 507,079\n",
      "Non-trainable params: 0\n",
      "_________________________________________________________________\n"
     ]
    }
   ],
   "source": [
    "model = Sequential([\n",
    "      tf.keras.layers.Conv2D(32, (3,3), activation='relu', input_shape=(64, 64, 3)),\n",
    "      tf.keras.layers.MaxPooling2D(2, 2),\n",
    "      tf.keras.layers.Conv2D(64, (3,3), activation='relu'),\n",
    "      tf.keras.layers.MaxPooling2D(2,2),\n",
    "      tf.keras.layers.Conv2D(128, (3,3), activation='relu'),\n",
    "      tf.keras.layers.MaxPooling2D(2,2),\n",
    "      tf.keras.layers.Conv2D(128, (3,3), activation='relu'),\n",
    "      tf.keras.layers.MaxPooling2D(2,2),\n",
    "      tf.keras.layers.Flatten(),\n",
    "      tf.keras.layers.Dense(512, activation='relu'),\n",
    "      tf.keras.layers.Dense(7, activation='softmax')\n",
    "])\n",
    "    \n",
    "model.compile(optimizer = 'adam', \n",
    "              loss='categorical_crossentropy', \n",
    "              metrics=['accuracy'])\n",
    "\n",
    "model.summary()"
   ]
  },
  {
   "cell_type": "code",
   "execution_count": 4,
   "id": "cfdb8a73",
   "metadata": {},
   "outputs": [
    {
     "name": "stdout",
     "output_type": "stream",
     "text": [
      "Epoch 1/20\n",
      "23/23 [==============================] - 6s 213ms/step - loss: 1.8510 - accuracy: 0.2599 - val_loss: 1.5709 - val_accuracy: 0.3778\n",
      "Epoch 2/20\n",
      "23/23 [==============================] - 5s 198ms/step - loss: 1.1226 - accuracy: 0.5619 - val_loss: 1.3778 - val_accuracy: 0.4127\n",
      "Epoch 3/20\n",
      "23/23 [==============================] - 5s 208ms/step - loss: 0.9289 - accuracy: 0.5850 - val_loss: 0.7296 - val_accuracy: 0.6698\n",
      "Epoch 4/20\n",
      "23/23 [==============================] - 6s 281ms/step - loss: 0.6175 - accuracy: 0.7605 - val_loss: 0.5489 - val_accuracy: 0.7873\n",
      "Epoch 5/20\n",
      "23/23 [==============================] - 5s 203ms/step - loss: 0.5967 - accuracy: 0.7714 - val_loss: 0.4547 - val_accuracy: 0.8317\n",
      "Epoch 6/20\n",
      "23/23 [==============================] - 4s 191ms/step - loss: 0.4755 - accuracy: 0.8218 - val_loss: 0.6069 - val_accuracy: 0.7587\n",
      "Epoch 7/20\n",
      "23/23 [==============================] - 4s 180ms/step - loss: 0.3912 - accuracy: 0.8463 - val_loss: 0.5543 - val_accuracy: 0.8063\n",
      "Epoch 8/20\n",
      "23/23 [==============================] - 4s 178ms/step - loss: 0.4791 - accuracy: 0.8259 - val_loss: 0.7006 - val_accuracy: 0.7810\n",
      "Epoch 9/20\n",
      "23/23 [==============================] - 4s 174ms/step - loss: 0.4853 - accuracy: 0.8190 - val_loss: 0.4552 - val_accuracy: 0.8476\n",
      "Epoch 10/20\n",
      "23/23 [==============================] - 4s 177ms/step - loss: 0.3627 - accuracy: 0.8612 - val_loss: 0.6816 - val_accuracy: 0.7651\n",
      "Epoch 11/20\n",
      "23/23 [==============================] - 4s 182ms/step - loss: 0.3258 - accuracy: 0.8735 - val_loss: 0.2863 - val_accuracy: 0.9079\n",
      "Epoch 12/20\n",
      "23/23 [==============================] - 4s 168ms/step - loss: 0.3071 - accuracy: 0.8762 - val_loss: 0.2868 - val_accuracy: 0.9048\n",
      "Epoch 13/20\n",
      "23/23 [==============================] - 4s 177ms/step - loss: 0.2367 - accuracy: 0.9088 - val_loss: 0.4226 - val_accuracy: 0.8476\n",
      "Epoch 14/20\n",
      "23/23 [==============================] - 4s 184ms/step - loss: 0.4507 - accuracy: 0.8286 - val_loss: 0.5179 - val_accuracy: 0.7746\n",
      "Epoch 15/20\n",
      "23/23 [==============================] - 4s 170ms/step - loss: 0.3272 - accuracy: 0.8912 - val_loss: 0.5916 - val_accuracy: 0.8159\n",
      "Epoch 16/20\n",
      "23/23 [==============================] - 4s 177ms/step - loss: 0.2515 - accuracy: 0.9116 - val_loss: 0.3375 - val_accuracy: 0.8889\n",
      "Epoch 17/20\n",
      "23/23 [==============================] - 4s 168ms/step - loss: 0.2414 - accuracy: 0.9116 - val_loss: 0.6419 - val_accuracy: 0.8127\n",
      "Epoch 18/20\n",
      "23/23 [==============================] - 4s 170ms/step - loss: 0.3448 - accuracy: 0.8762 - val_loss: 0.2559 - val_accuracy: 0.9048\n",
      "Epoch 19/20\n",
      "23/23 [==============================] - 4s 173ms/step - loss: 0.2029 - accuracy: 0.9306 - val_loss: 0.2466 - val_accuracy: 0.9016\n",
      "Epoch 20/20\n",
      "23/23 [==============================] - 4s 172ms/step - loss: 0.1973 - accuracy: 0.9361 - val_loss: 0.1675 - val_accuracy: 0.9492\n"
     ]
    }
   ],
   "source": [
    "epochs = 20\n",
    "\n",
    "history = model.fit(x = train_generator,validation_data=test_generator ,batch_size=32,verbose=1, epochs=epochs)"
   ]
  },
  {
   "cell_type": "code",
   "execution_count": 9,
   "id": "aa623255",
   "metadata": {},
   "outputs": [
    {
     "name": "stdout",
     "output_type": "stream",
     "text": [
      "10/10 [==============================] - 1s 70ms/step - loss: 0.1675 - accuracy: 0.9492\n"
     ]
    },
    {
     "data": {
      "text/plain": [
       "[0.1674571931362152, 0.9492063522338867]"
      ]
     },
     "execution_count": 9,
     "metadata": {},
     "output_type": "execute_result"
    }
   ],
   "source": [
    "model.evaluate(test_generator)"
   ]
  },
  {
   "cell_type": "code",
   "execution_count": 5,
   "id": "c103819d",
   "metadata": {},
   "outputs": [
    {
     "data": {
      "image/png": "[encoded data removed]",
      "text/plain": [
       "<Figure size 432x288 with 1 Axes>"
      ]
     },
     "metadata": {
      "needs_background": "light"
     },
     "output_type": "display_data"
    }
   ],
   "source": [
    "loss_train = history.history['loss']\n",
    "loss_val = history.history['val_loss']\n",
    "ep = range(epochs)\n",
    "plt.plot(ep, loss_train, label='Training loss')\n",
    "plt.plot(ep, loss_val, label='validation loss')\n",
    "plt.title('Training and Validation loss')\n",
    "plt.xlabel('Epochs')\n",
    "plt.ylabel('Loss')\n",
    "plt.legend()\n",
    "plt.show()"
   ]
  },
  {
   "cell_type": "code",
   "execution_count": 6,
   "id": "92bf95fc",
   "metadata": {},
   "outputs": [
    {
     "data": {
      "image/png": "[encoded data removed]",
      "text/plain": [
       "<Figure size 432x288 with 1 Axes>"
      ]
     },
     "metadata": {
      "needs_background": "light"
     },
     "output_type": "display_data"
    }
   ],
   "source": [
    "loss_train = history.history['accuracy']\n",
    "loss_val = history.history['val_accuracy']\n",
    "ep = range(epochs)\n",
    "plt.plot(ep, loss_train,label='Training accuracy')\n",
    "plt.plot(ep, loss_val, label='validation accuracy')\n",
    "plt.title('Training and Validation accuracy')\n",
    "plt.xlabel('Epochs')\n",
    "plt.ylabel('Accuracy')\n",
    "plt.legend()\n",
    "plt.show()"
   ]
  },
  {
   "cell_type": "code",
   "execution_count": 7,
   "id": "3ed6dd8a",
   "metadata": {},
   "outputs": [],
   "source": [
    "def single_predict(file):\n",
    "    test_image=load_img(file, target_size=(64,64))\n",
    "    test_image=img_to_array(test_image)\n",
    "    test_image=np.expand_dims(test_image,axis=0)\n",
    "    result=model.predict(test_image)\n",
    "    sorted_classes = ['10', '100', '20', '200', '2000', '50', '500']\n",
    "    return sorted_classes[result.argmax()]"
   ]
  },
  {
   "cell_type": "code",
   "execution_count": 18,
   "id": "4141414a",
   "metadata": {},
   "outputs": [
    {
     "name": "stdout",
     "output_type": "stream",
     "text": [
      "1/1 [==============================] - 0s 17ms/step\n"
     ]
    },
    {
     "data": {
      "text/plain": [
       "'200'"
      ]
     },
     "execution_count": 18,
     "metadata": {},
     "output_type": "execute_result"
    }
   ],
   "source": [
    "single_predict(\"data/single/worst/200rs.jpg\")"
   ]
  },
  {
   "cell_type": "code",
   "execution_count": null,
   "id": "449b3dfa",
   "metadata": {},
   "outputs": [],
   "source": []
  },
  {
   "cell_type": "raw",
   "id": "ebba91c0",
   "metadata": {},
   "source": [
    ">>> t = [\"10\",\"20\",\"50\",\"100\",\"200\",\"500\",\"2000\"]\n",
    ">>> sorted(t)\n",
    "['10', '100', '20', '200', '2000', '50', '500']"
   ]
  }
 ],
 "metadata": {
  "kernelspec": {
   "display_name": "Python 3 (ipykernel)",
   "language": "python",
   "name": "python3"
  },
  "language_info": {
   "codemirror_mode": {
    "name": "ipython",
    "version": 3
   },
   "file_extension": ".py",
   "mimetype": "text/x-python",
   "name": "python",
   "nbconvert_exporter": "python",
   "pygments_lexer": "ipython3",
   "version": "3.8.0"
  }
 },
 "nbformat": 4,
 "nbformat_minor": 5
}
