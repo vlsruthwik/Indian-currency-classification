{
 "cells": [
  {
   "cell_type": "code",
   "execution_count": 1,
   "id": "afd279c5",
   "metadata": {},
   "outputs": [],
   "source": [
    "import tensorflow as tf\n",
    "from keras.preprocessing.image import ImageDataGenerator\n",
    "import numpy as np\n",
    "from keras.models import Sequential\n",
    "import matplotlib.pyplot as plt\n",
    "from keras.utils import load_img, img_to_array"
   ]
  },
  {
   "cell_type": "code",
   "execution_count": 2,
   "id": "1cce8ba3",
   "metadata": {},
   "outputs": [
    {
     "name": "stdout",
     "output_type": "stream",
     "text": [
      "Found 735 images belonging to 7 classes.\n",
      "Found 315 images belonging to 7 classes.\n"
     ]
    }
   ],
   "source": [
    "train_datagen = ImageDataGenerator(\n",
    "        rescale=1./255,\n",
    "        shear_range=0.2,\n",
    "        zoom_range=0.2,\n",
    "        rotation_range=30,\n",
    "        width_shift_range=0.2,\n",
    "        height_shift_range=0.2,\n",
    "        horizontal_flip=True)\n",
    "\n",
    "train_generator = train_datagen.flow_from_directory(\n",
    "    \"./data/train\",\n",
    "    target_size=(128,128),\n",
    "    batch_size=16,\n",
    "    shuffle=True,\n",
    "    seed=42,\n",
    "    color_mode=\"rgb\",\n",
    "    class_mode='categorical')\n",
    "\n",
    "test_datagen = ImageDataGenerator(rescale=1./255)\n",
    "\n",
    "test_generator = test_datagen.flow_from_directory(\n",
    "    \"./data/test\",\n",
    "    target_size=(128,128),\n",
    "    batch_size=16,\n",
    "    shuffle=True,\n",
    "    seed=42,\n",
    "    color_mode=\"rgb\",\n",
    "    class_mode='categorical')"
   ]
  },
  {
   "cell_type": "code",
   "execution_count": 3,
   "id": "5475afa5",
   "metadata": {},
   "outputs": [],
   "source": [
    "\n",
    "class myCallback(tf.keras.callbacks.Callback):\n",
    "    def on_epoch_end(self, epoch, logs={}):\n",
    "        if(logs.get('val_loss') < 0.1):\n",
    "            self.model.stop_training = True\n",
    "    \n",
    "        \n",
    "        \n",
    "            \n",
    "callbacks = myCallback()"
   ]
  },
  {
   "cell_type": "code",
   "execution_count": 4,
   "id": "3caac808",
   "metadata": {},
   "outputs": [
    {
     "name": "stdout",
     "output_type": "stream",
     "text": [
      "Model: \"sequential\"\n",
      "_________________________________________________________________\n",
      " Layer (type)                Output Shape              Param #   \n",
      "=================================================================\n",
      " conv2d (Conv2D)             (None, 128, 128, 32)      896       \n",
      "                                                                 \n",
      " max_pooling2d (MaxPooling2D  (None, 64, 64, 32)       0         \n",
      " )                                                               \n",
      "                                                                 \n",
      " leaky_re_lu (LeakyReLU)     (None, 64, 64, 32)        0         \n",
      "                                                                 \n",
      " conv2d_1 (Conv2D)           (None, 62, 62, 128)       36992     \n",
      "                                                                 \n",
      " max_pooling2d_1 (MaxPooling  (None, 31, 31, 128)      0         \n",
      " 2D)                                                             \n",
      "                                                                 \n",
      " leaky_re_lu_1 (LeakyReLU)   (None, 31, 31, 128)       0         \n",
      "                                                                 \n",
      " conv2d_2 (Conv2D)           (None, 29, 29, 32)        36896     \n",
      "                                                                 \n",
      " max_pooling2d_2 (MaxPooling  (None, 14, 14, 32)       0         \n",
      " 2D)                                                             \n",
      "                                                                 \n",
      " flatten (Flatten)           (None, 6272)              0         \n",
      "                                                                 \n",
      " dense (Dense)               (None, 512)               3211776   \n",
      "                                                                 \n",
      " leaky_re_lu_2 (LeakyReLU)   (None, 512)               0         \n",
      "                                                                 \n",
      " dense_1 (Dense)             (None, 7)                 3591      \n",
      "                                                                 \n",
      "=================================================================\n",
      "Total params: 3,290,151\n",
      "Trainable params: 3,290,151\n",
      "Non-trainable params: 0\n",
      "_________________________________________________________________\n"
     ]
    }
   ],
   "source": [
    "n_classes = 7\n",
    "\n",
    "model = Sequential([\n",
    "    tf.keras.layers.Conv2D(32, (3,3), activation='relu',padding='same', input_shape=(128, 128, 3)),\n",
    "    tf.keras.layers.MaxPooling2D(2, 2),\n",
    "    tf.keras.layers.LeakyReLU(alpha=0.1),\n",
    "    tf.keras.layers.Conv2D(128, (3,3), activation='relu'),\n",
    "    tf.keras.layers.MaxPooling2D(2,2),\n",
    "    tf.keras.layers.LeakyReLU(alpha=0.1),\n",
    "    tf.keras.layers.Conv2D(32, (3,3), activation='relu'),\n",
    "    tf.keras.layers.MaxPooling2D(2,2),\n",
    "    tf.keras.layers.Flatten(),\n",
    "    tf.keras.layers.Dense(512, activation='relu'),\n",
    "    tf.keras.layers.LeakyReLU(alpha=0.1),\n",
    "    tf.keras.layers.Dense(7, activation='softmax')\n",
    "])\n",
    "    \n",
    "model.compile(optimizer = 'adam', \n",
    "              loss='categorical_crossentropy', \n",
    "              metrics=['accuracy'])\n",
    "\n",
    "model.summary()"
   ]
  },
  {
   "cell_type": "code",
   "execution_count": 5,
   "id": "cfdb8a73",
   "metadata": {},
   "outputs": [],
   "source": [
    "# epochs = 20\n",
    "\n",
    "# history = model.fit(x = train_generator,\n",
    "#                     validation_data=test_generator ,\n",
    "#                     batch_size=16,\n",
    "#                     verbose=1, \n",
    "#                     epochs=epochs,\n",
    "#                     callbacks=[callbacks]\n",
    "#                    )"
   ]
  },
  {
   "cell_type": "code",
   "execution_count": 6,
   "id": "652c6884",
   "metadata": {},
   "outputs": [],
   "source": [
    "# model.evaluate(test_generator)"
   ]
  },
  {
   "cell_type": "code",
   "execution_count": 7,
   "id": "abb1a5fa",
   "metadata": {},
   "outputs": [],
   "source": [
    "# no_epochs = len(history.history['loss'])\n",
    "\n",
    "# loss_train = history.history['loss']\n",
    "# loss_val = history.history['val_loss']\n",
    "# ep = range(no_epochs)\n",
    "# plt.plot(ep, loss_train, label='Training loss')\n",
    "# plt.plot(ep, loss_val, label='validation loss')\n",
    "# plt.title('Training and Validation loss')\n",
    "# plt.xlabel('Epochs')\n",
    "# plt.ylabel('Loss')\n",
    "# plt.legend()\n",
    "# plt.show()"
   ]
  },
  {
   "cell_type": "code",
   "execution_count": 8,
   "id": "9c13baf8",
   "metadata": {},
   "outputs": [],
   "source": [
    "# loss_train = history.history['accuracy']\n",
    "# loss_val = history.history['val_accuracy']\n",
    "# ep = range(no_epochs)\n",
    "# plt.plot(ep, loss_train,label='Training accuracy')\n",
    "# plt.plot(ep, loss_val, label='validation accuracy')\n",
    "# plt.title('Training and Validation accuracy')\n",
    "# plt.xlabel('Epochs')\n",
    "# plt.ylabel('Accuracy')\n",
    "# plt.legend()\n",
    "# plt.show()"
   ]
  },
  {
   "cell_type": "code",
   "execution_count": 9,
   "id": "3176cde9",
   "metadata": {},
   "outputs": [
    {
     "name": "stdout",
     "output_type": "stream",
     "text": [
      "45/45 [==============================] - 7s 143ms/step\n",
      "19/19 [==============================] - 2s 105ms/step\n"
     ]
    }
   ],
   "source": [
    "cnn_features_model = tf.keras.models.Model(inputs=model.input, outputs=model.get_layer('flatten').output)\n",
    "\n",
    "train_generator.reset()\n",
    "num_train_samples = len(train_generator.filenames)\n",
    "train_cnn_features = cnn_features_model.predict(train_generator, steps=num_train_samples/train_generator.batch_size, verbose=1)\n",
    "\n",
    "test_generator.reset()\n",
    "num_test_samples = len(test_generator.filenames)\n",
    "test_cnn_features = cnn_features_model.predict(test_generator, steps=num_test_samples/test_generator.batch_size, verbose=1)"
   ]
  },
  {
   "cell_type": "code",
   "execution_count": 10,
   "id": "6fb46abe",
   "metadata": {},
   "outputs": [
    {
     "name": "stdout",
     "output_type": "stream",
     "text": [
      "0.15873015873015872\n"
     ]
    }
   ],
   "source": [
    "#KNN\n",
    "train_generator.reset()\n",
    "test_generator.reset()\n",
    "\n",
    "from sklearn.neighbors import KNeighborsClassifier\n",
    "\n",
    "knn_model = KNeighborsClassifier(n_neighbors=5)\n",
    "knn_model.fit(train_cnn_features, train_generator.classes)\n",
    "knn_pred = knn_model.predict(test_cnn_features)\n",
    "\n",
    "from sklearn.metrics import accuracy_score,mean_squared_error\n",
    "print(accuracy_score(test_generator.classes,knn_pred))\n"
   ]
  },
  {
   "cell_type": "code",
   "execution_count": 11,
   "id": "88e1d862",
   "metadata": {},
   "outputs": [
    {
     "name": "stdout",
     "output_type": "stream",
     "text": [
      "0.1111111111111111\n"
     ]
    }
   ],
   "source": [
    "#Ada Boost\n",
    "train_generator.reset()\n",
    "test_generator.reset()\n",
    "\n",
    "\n",
    "from sklearn.ensemble import AdaBoostClassifier\n",
    "from sklearn.tree import DecisionTreeClassifier\n",
    "AB_model = AdaBoostClassifier(\n",
    "    DecisionTreeClassifier(max_depth=3),\n",
    "    n_estimators=10\n",
    ")\n",
    "AB_model.fit(train_cnn_features, train_generator.classes)\n",
    "ada_pred = AB_model.predict(test_cnn_features)\n",
    "\n",
    "print(accuracy_score(test_generator.classes,ada_pred))\n"
   ]
  },
  {
   "cell_type": "code",
   "execution_count": 12,
   "id": "0204685e",
   "metadata": {},
   "outputs": [
    {
     "name": "stdout",
     "output_type": "stream",
     "text": [
      "0.1523809523809524\n"
     ]
    }
   ],
   "source": [
    "#XG boost\n",
    "train_generator.reset()\n",
    "test_generator.reset()\n",
    "\n",
    "from xgboost import XGBClassifier\n",
    "XG_model = XGBClassifier()\n",
    "XG_model.fit(train_cnn_features, train_generator.classes)\n",
    "XG_pred = XG_model.predict(test_cnn_features)\n",
    "\n",
    "print(accuracy_score(test_generator.classes,XG_pred))\n"
   ]
  },
  {
   "cell_type": "code",
   "execution_count": null,
   "id": "aa623255",
   "metadata": {},
   "outputs": [],
   "source": []
  },
  {
   "cell_type": "code",
   "execution_count": null,
   "id": "cc3e645d",
   "metadata": {},
   "outputs": [],
   "source": []
  },
  {
   "cell_type": "code",
   "execution_count": null,
   "id": "c103819d",
   "metadata": {},
   "outputs": [],
   "source": []
  },
  {
   "cell_type": "code",
   "execution_count": null,
   "id": "92bf95fc",
   "metadata": {},
   "outputs": [],
   "source": []
  },
  {
   "cell_type": "code",
   "execution_count": 13,
   "id": "3ed6dd8a",
   "metadata": {},
   "outputs": [],
   "source": [
    "def single_predict(file):\n",
    "    test_image=load_img(file, target_size=(128,128))\n",
    "    test_image=img_to_array(test_image)\n",
    "    test_image=np.expand_dims(test_image,axis=0)\n",
    "    result=model.predict(test_image)\n",
    "    sorted_classes = ['10', '100', '20', '200', '2000', '50', '500']\n",
    "    return sorted_classes[result.argmax()]"
   ]
  },
  {
   "cell_type": "code",
   "execution_count": 14,
   "id": "4141414a",
   "metadata": {},
   "outputs": [
    {
     "name": "stdout",
     "output_type": "stream",
     "text": [
      "1/1 [==============================] - 0s 76ms/step\n"
     ]
    },
    {
     "data": {
      "text/plain": [
       "'2000'"
      ]
     },
     "execution_count": 14,
     "metadata": {},
     "output_type": "execute_result"
    }
   ],
   "source": [
    "single_predict(\"data/single/500rs.jpg\")"
   ]
  },
  {
   "cell_type": "code",
   "execution_count": null,
   "id": "449b3dfa",
   "metadata": {},
   "outputs": [],
   "source": []
  },
  {
   "cell_type": "code",
   "execution_count": 15,
   "id": "1a41d718",
   "metadata": {},
   "outputs": [
    {
     "data": {
      "text/plain": [
       "{'10': 0, '100': 1, '20': 2, '200': 3, '2000': 4, '50': 5, '500': 6}"
      ]
     },
     "execution_count": 15,
     "metadata": {},
     "output_type": "execute_result"
    }
   ],
   "source": [
    "train_generator.class_indices"
   ]
  },
  {
   "cell_type": "code",
   "execution_count": 16,
   "id": "2a2ade66",
   "metadata": {},
   "outputs": [],
   "source": [
    "# model.save_weights('optimised_CNN')"
   ]
  },
  {
   "cell_type": "code",
   "execution_count": 17,
   "id": "05c29292",
   "metadata": {},
   "outputs": [],
   "source": [
    "# import cv2\n",
    "# import numpy as np\n",
    "\n",
    "\n",
    "# url = input()\n",
    "# cap = cv2.VideoCapture(url+\"/video\")\n",
    "\n",
    "# while(True):\n",
    "#     font = cv2.FONT_HERSHEY_SIMPLEX\n",
    "#     fontScale = 1\n",
    "#     color = (255, 0, 0)\n",
    "#     thickness = 2\n",
    "    \n",
    "#     ret, frame = cap.read()\n",
    "#     cv2.imwrite(\"cv_clicked.jpg\",frame)\n",
    "#     res = single_predict(\"cv_clicked.jpg\")\n",
    "#     print(res)\n",
    "#     cv2.putText(frame,res,(50, 50),font,fontScale,color,thickness)\n",
    "#     cv2.imshow('frame',frame)\n",
    "    \n",
    "    \n",
    "#     if cv2.waitKey(1) & 0xFF == ord('q'):\n",
    "#         break\n",
    "\n",
    "# cap.release()\n",
    "# cv2.destroyAllWindows()"
   ]
  },
  {
   "cell_type": "code",
   "execution_count": null,
   "id": "5b5b580c",
   "metadata": {},
   "outputs": [],
   "source": []
  },
  {
   "cell_type": "code",
   "execution_count": 30,
   "id": "0c1251e9",
   "metadata": {},
   "outputs": [
    {
     "data": {
      "image/png": "[encoded data removed]",
      "text/plain": [
       "<PIL.Image.Image image mode=RGBA size=902x739>"
      ]
     },
     "execution_count": 30,
     "metadata": {},
     "output_type": "execute_result"
    }
   ],
   "source": [
    "import visualkeras\n",
    "from PIL import ImageFont\n",
    "font = ImageFont.truetype(\"arial.ttf\", 22)\n",
    "visualkeras.layered_view(model,legend=True,font=font)"
   ]
  },
  {
   "cell_type": "code",
   "execution_count": null,
   "id": "a83cca83",
   "metadata": {},
   "outputs": [],
   "source": []
  }
 ],
 "metadata": {
  "kernelspec": {
   "display_name": "Python 3 (ipykernel)",
   "language": "python",
   "name": "python3"
  },
  "language_info": {
   "codemirror_mode": {
    "name": "ipython",
    "version": 3
   },
   "file_extension": ".py",
   "mimetype": "text/x-python",
   "name": "python",
   "nbconvert_exporter": "python",
   "pygments_lexer": "ipython3",
   "version": "3.8.0"
  }
 },
 "nbformat": 4,
 "nbformat_minor": 5
}
