{
 "cells": [
  {
   "cell_type": "code",
   "execution_count": 10,
   "metadata": {
    "execution": {
     "iopub.execute_input": "2023-02-07T04:56:25.640369Z",
     "iopub.status.busy": "2023-02-07T04:56:25.640010Z",
     "iopub.status.idle": "2023-02-07T04:56:25.646931Z",
     "shell.execute_reply": "2023-02-07T04:56:25.645340Z",
     "shell.execute_reply.started": "2023-02-07T04:56:25.640341Z"
    }
   },
   "outputs": [],
   "source": [
    "import tensorflow as tf\n",
    "import keras\n",
    "from keras.preprocessing.image import ImageDataGenerator\n",
    "import numpy as np\n",
    "from keras.models import Sequential\n",
    "import matplotlib.pyplot as plt\n",
    "import efficientnet.keras as efn\n",
    "from tensorflow.keras.applications import EfficientNetB0\n",
    "from keras.models import Model\n",
    "# from keras.utils import load_img, img_to_array"
   ]
  },
  {
   "cell_type": "code",
   "execution_count": 24,
   "metadata": {
    "execution": {
     "iopub.execute_input": "2023-02-07T04:56:26.407777Z",
     "iopub.status.busy": "2023-02-07T04:56:26.407398Z",
     "iopub.status.idle": "2023-02-07T04:56:26.738968Z",
     "shell.execute_reply": "2023-02-07T04:56:26.738302Z",
     "shell.execute_reply.started": "2023-02-07T04:56:26.407745Z"
    }
   },
   "outputs": [
    {
     "name": "stdout",
     "output_type": "stream",
     "text": [
      "Found 735 images belonging to 7 classes.\n",
      "Found 315 images belonging to 7 classes.\n"
     ]
    }
   ],
   "source": [
    "train_datagen = ImageDataGenerator(\n",
    "        rescale=1./255,\n",
    "        shear_range=0.2,\n",
    "        rotation_range=30,\n",
    "        horizontal_flip=True)\n",
    "\n",
    "train_generator = train_datagen.flow_from_directory(\n",
    "    \"data/train/\",\n",
    "    target_size=(64,64),\n",
    "    batch_size=32,\n",
    "    shuffle=True,\n",
    "    seed=42,\n",
    "    save_to_dir=\"saved/\",\n",
    "    save_prefix=\"N\",\n",
    "    save_format='png',\n",
    "    color_mode=\"rgb\",\n",
    "    class_mode='categorical')\n",
    "\n",
    "test_datagen = ImageDataGenerator(rescale=1./255)\n",
    "\n",
    "test_generator = test_datagen.flow_from_directory(\n",
    "    \"data/test/\",\n",
    "    target_size=(64,64),\n",
    "    batch_size=32,\n",
    "    shuffle=True,\n",
    "    seed=42,\n",
    "    color_mode=\"rgb\",\n",
    "    class_mode='categorical')"
   ]
  },
  {
   "cell_type": "code",
   "execution_count": 25,
   "metadata": {},
   "outputs": [],
   "source": [
    "for i in range(len(train_generator)):\n",
    "    train_generator.next()"
   ]
  },
  {
   "cell_type": "code",
   "execution_count": 12,
   "metadata": {
    "execution": {
     "iopub.execute_input": "2023-02-07T04:56:49.642782Z",
     "iopub.status.busy": "2023-02-07T04:56:49.642365Z",
     "iopub.status.idle": "2023-02-07T04:56:51.670256Z",
     "shell.execute_reply": "2023-02-07T04:56:51.669232Z",
     "shell.execute_reply.started": "2023-02-07T04:56:49.642755Z"
    }
   },
   "outputs": [
    {
     "name": "stdout",
     "output_type": "stream",
     "text": [
      "Model: \"sequential_2\"\n",
      "_________________________________________________________________\n",
      " Layer (type)                Output Shape              Param #   \n",
      "=================================================================\n",
      " model_2 (Functional)        (None, 5120)              4049571   \n",
      "                                                                 \n",
      " dense_6 (Dense)             (None, 64)                327744    \n",
      "                                                                 \n",
      " dropout_4 (Dropout)         (None, 64)                0         \n",
      "                                                                 \n",
      " dense_7 (Dense)             (None, 32)                2080      \n",
      "                                                                 \n",
      " dropout_5 (Dropout)         (None, 32)                0         \n",
      "                                                                 \n",
      " dense_8 (Dense)             (None, 7)                 231       \n",
      "                                                                 \n",
      "=================================================================\n",
      "Total params: 4,379,626\n",
      "Trainable params: 4,337,603\n",
      "Non-trainable params: 42,023\n",
      "_________________________________________________________________\n"
     ]
    }
   ],
   "source": [
    "efficient_net = EfficientNetB0(weights='imagenet', include_top=False, input_shape=(64,64,3))\n",
    "\n",
    "output = efficient_net.layers[-1].output\n",
    "output = keras.layers.Flatten()(output)\n",
    "\n",
    "eff = Model(efficient_net.input, output)\n",
    "\n",
    "# for layer in resnet.layers:\n",
    "#     layer.trainable = False\n",
    "\n",
    "    \n",
    "model = Sequential([\n",
    "      eff,\n",
    "      tf.keras.layers.Dense(64, activation='relu'),\n",
    "      tf.keras.layers.Dropout(0.3),\n",
    "      tf.keras.layers.Dense(32, activation='relu'),\n",
    "      tf.keras.layers.Dropout(0.3),\n",
    "      tf.keras.layers.Dense(7, activation='softmax')\n",
    "])\n",
    "    \n",
    "model.compile(optimizer = 'adam', \n",
    "              loss='categorical_crossentropy', \n",
    "              metrics=['accuracy'])\n",
    "\n",
    "model.summary()"
   ]
  },
  {
   "cell_type": "code",
   "execution_count": 13,
   "metadata": {
    "execution": {
     "iopub.execute_input": "2023-02-07T04:56:56.836151Z",
     "iopub.status.busy": "2023-02-07T04:56:56.835033Z",
     "iopub.status.idle": "2023-02-07T05:19:34.479725Z",
     "shell.execute_reply": "2023-02-07T05:19:34.478795Z",
     "shell.execute_reply.started": "2023-02-07T04:56:56.836109Z"
    }
   },
   "outputs": [
    {
     "name": "stdout",
     "output_type": "stream",
     "text": [
      "Epoch 1/5\n",
      "23/23 [==============================] - 37s 616ms/step - loss: 1.6771 - accuracy: 0.3524 - val_loss: 2.3231 - val_accuracy: 0.1429\n",
      "Epoch 2/5\n",
      "23/23 [==============================] - 13s 551ms/step - loss: 0.8464 - accuracy: 0.7265 - val_loss: 2.5871 - val_accuracy: 0.1429\n",
      "Epoch 3/5\n",
      "23/23 [==============================] - 11s 483ms/step - loss: 0.7171 - accuracy: 0.7918 - val_loss: 2.2480 - val_accuracy: 0.1429\n",
      "Epoch 4/5\n",
      "23/23 [==============================] - 11s 472ms/step - loss: 0.4777 - accuracy: 0.8626 - val_loss: 2.4106 - val_accuracy: 0.1429\n",
      "Epoch 5/5\n",
      "23/23 [==============================] - 11s 476ms/step - loss: 0.3011 - accuracy: 0.9143 - val_loss: 3.1263 - val_accuracy: 0.1429\n"
     ]
    }
   ],
   "source": [
    "epochs = 5\n",
    "\n",
    "history = model.fit(x = train_generator,validation_data=test_generator ,batch_size=32,verbose=1, epochs=epochs)"
   ]
  },
  {
   "cell_type": "code",
   "execution_count": 14,
   "metadata": {
    "execution": {
     "iopub.execute_input": "2023-02-07T05:19:34.481745Z",
     "iopub.status.busy": "2023-02-07T05:19:34.481485Z",
     "iopub.status.idle": "2023-02-07T05:19:56.937410Z",
     "shell.execute_reply": "2023-02-07T05:19:56.936120Z",
     "shell.execute_reply.started": "2023-02-07T05:19:34.481722Z"
    }
   },
   "outputs": [
    {
     "name": "stdout",
     "output_type": "stream",
     "text": [
      "10/10 [==============================] - 1s 128ms/step - loss: 3.1263 - accuracy: 0.1429\n"
     ]
    },
    {
     "data": {
      "text/plain": [
       "[3.126315116882324, 0.1428571492433548]"
      ]
     },
     "execution_count": 14,
     "metadata": {},
     "output_type": "execute_result"
    }
   ],
   "source": [
    "model.evaluate(test_generator)"
   ]
  },
  {
   "cell_type": "code",
   "execution_count": 15,
   "metadata": {
    "execution": {
     "iopub.execute_input": "2023-02-07T05:19:56.939557Z",
     "iopub.status.busy": "2023-02-07T05:19:56.938973Z",
     "iopub.status.idle": "2023-02-07T05:19:57.116306Z",
     "shell.execute_reply": "2023-02-07T05:19:57.115404Z",
     "shell.execute_reply.started": "2023-02-07T05:19:56.939525Z"
    }
   },
   "outputs": [
    {
     "data": {
      "image/png": "[encoded data removed]",
      "text/plain": [
       "<Figure size 432x288 with 1 Axes>"
      ]
     },
     "metadata": {
      "needs_background": "light"
     },
     "output_type": "display_data"
    }
   ],
   "source": [
    "loss_train = history.history['loss']\n",
    "loss_val = history.history['val_loss']\n",
    "ep = range(epochs)\n",
    "plt.plot(ep, loss_train, label='Training loss')\n",
    "plt.plot(ep, loss_val, label='validation loss')\n",
    "plt.title('Training and Validation loss')\n",
    "plt.xlabel('Epochs')\n",
    "plt.ylabel('Loss')\n",
    "plt.legend()\n",
    "plt.show()"
   ]
  },
  {
   "cell_type": "code",
   "execution_count": 16,
   "metadata": {
    "execution": {
     "iopub.execute_input": "2023-02-07T05:19:57.120121Z",
     "iopub.status.busy": "2023-02-07T05:19:57.119835Z",
     "iopub.status.idle": "2023-02-07T05:19:57.281533Z",
     "shell.execute_reply": "2023-02-07T05:19:57.280579Z",
     "shell.execute_reply.started": "2023-02-07T05:19:57.120096Z"
    }
   },
   "outputs": [
    {
     "data": {
      "image/png": "[encoded data removed]",
      "text/plain": [
       "<Figure size 432x288 with 1 Axes>"
      ]
     },
     "metadata": {
      "needs_background": "light"
     },
     "output_type": "display_data"
    }
   ],
   "source": [
    "loss_train = history.history['accuracy']\n",
    "loss_val = history.history['val_accuracy']\n",
    "ep = range(epochs)\n",
    "plt.plot(ep, loss_train,label='Training accuracy')\n",
    "plt.plot(ep, loss_val, label='validation accuracy')\n",
    "plt.title('Training and Validation accuracy')\n",
    "plt.xlabel('Epochs')\n",
    "plt.ylabel('Accuracy')\n",
    "plt.legend()\n",
    "plt.show()"
   ]
  },
  {
   "cell_type": "code",
   "execution_count": null,
   "metadata": {},
   "outputs": [],
   "source": []
  },
  {
   "cell_type": "code",
   "execution_count": null,
   "metadata": {},
   "outputs": [],
   "source": []
  }
 ],
 "metadata": {
  "kernelspec": {
   "display_name": "Python 3 (ipykernel)",
   "language": "python",
   "name": "python3"
  },
  "language_info": {
   "codemirror_mode": {
    "name": "ipython",
    "version": 3
   },
   "file_extension": ".py",
   "mimetype": "text/x-python",
   "name": "python",
   "nbconvert_exporter": "python",
   "pygments_lexer": "ipython3",
   "version": "3.8.0"
  }
 },
 "nbformat": 4,
 "nbformat_minor": 4
}
